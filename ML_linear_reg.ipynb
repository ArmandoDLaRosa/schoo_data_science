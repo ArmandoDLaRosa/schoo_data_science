{
  "nbformat": 4,
  "nbformat_minor": 0,
  "metadata": {
    "colab": {
      "name": "ML_linear_reg.ipynb",
      "provenance": [],
      "authorship_tag": "ABX9TyNYd+eRiGpfGBG9UyzpcTGR"
    },
    "kernelspec": {
      "name": "python3",
      "display_name": "Python 3"
    },
    "language_info": {
      "name": "python"
    }
  },
  "cells": [
    {
      "cell_type": "markdown",
      "source": [
        "# ML scratch"
      ],
      "metadata": {
        "id": "O8DVgFEhzipU"
      }
    },
    {
      "cell_type": "markdown",
      "source": [
        "## data"
      ],
      "metadata": {
        "id": "VVb3LjYW3KUr"
      }
    },
    {
      "cell_type": "code",
      "source": [
        "import pandas as pd\n",
        "from sklearn.datasets import load_iris\n",
        "df = load_iris(as_frame=True).frame\n",
        "df.columns = [\"sepal length\",\"sepal width\",\"petal length\",\"petal width\", \"class\"]\n",
        "df.head()"
      ],
      "metadata": {
        "colab": {
          "base_uri": "https://localhost:8080/",
          "height": 206
        },
        "id": "tGJDrc043NWC",
        "outputId": "a451689b-6e61-4a48-e481-7719d7dab118"
      },
      "execution_count": 76,
      "outputs": [
        {
          "output_type": "execute_result",
          "data": {
            "text/plain": [
              "   sepal length  sepal width  petal length  petal width  class\n",
              "0           5.1          3.5           1.4          0.2      0\n",
              "1           4.9          3.0           1.4          0.2      0\n",
              "2           4.7          3.2           1.3          0.2      0\n",
              "3           4.6          3.1           1.5          0.2      0\n",
              "4           5.0          3.6           1.4          0.2      0"
            ],
            "text/html": [
              "\n",
              "  <div id=\"df-ac27512e-802f-496a-9839-8ffb7e838b48\">\n",
              "    <div class=\"colab-df-container\">\n",
              "      <div>\n",
              "<style scoped>\n",
              "    .dataframe tbody tr th:only-of-type {\n",
              "        vertical-align: middle;\n",
              "    }\n",
              "\n",
              "    .dataframe tbody tr th {\n",
              "        vertical-align: top;\n",
              "    }\n",
              "\n",
              "    .dataframe thead th {\n",
              "        text-align: right;\n",
              "    }\n",
              "</style>\n",
              "<table border=\"1\" class=\"dataframe\">\n",
              "  <thead>\n",
              "    <tr style=\"text-align: right;\">\n",
              "      <th></th>\n",
              "      <th>sepal length</th>\n",
              "      <th>sepal width</th>\n",
              "      <th>petal length</th>\n",
              "      <th>petal width</th>\n",
              "      <th>class</th>\n",
              "    </tr>\n",
              "  </thead>\n",
              "  <tbody>\n",
              "    <tr>\n",
              "      <th>0</th>\n",
              "      <td>5.1</td>\n",
              "      <td>3.5</td>\n",
              "      <td>1.4</td>\n",
              "      <td>0.2</td>\n",
              "      <td>0</td>\n",
              "    </tr>\n",
              "    <tr>\n",
              "      <th>1</th>\n",
              "      <td>4.9</td>\n",
              "      <td>3.0</td>\n",
              "      <td>1.4</td>\n",
              "      <td>0.2</td>\n",
              "      <td>0</td>\n",
              "    </tr>\n",
              "    <tr>\n",
              "      <th>2</th>\n",
              "      <td>4.7</td>\n",
              "      <td>3.2</td>\n",
              "      <td>1.3</td>\n",
              "      <td>0.2</td>\n",
              "      <td>0</td>\n",
              "    </tr>\n",
              "    <tr>\n",
              "      <th>3</th>\n",
              "      <td>4.6</td>\n",
              "      <td>3.1</td>\n",
              "      <td>1.5</td>\n",
              "      <td>0.2</td>\n",
              "      <td>0</td>\n",
              "    </tr>\n",
              "    <tr>\n",
              "      <th>4</th>\n",
              "      <td>5.0</td>\n",
              "      <td>3.6</td>\n",
              "      <td>1.4</td>\n",
              "      <td>0.2</td>\n",
              "      <td>0</td>\n",
              "    </tr>\n",
              "  </tbody>\n",
              "</table>\n",
              "</div>\n",
              "      <button class=\"colab-df-convert\" onclick=\"convertToInteractive('df-ac27512e-802f-496a-9839-8ffb7e838b48')\"\n",
              "              title=\"Convert this dataframe to an interactive table.\"\n",
              "              style=\"display:none;\">\n",
              "        \n",
              "  <svg xmlns=\"http://www.w3.org/2000/svg\" height=\"24px\"viewBox=\"0 0 24 24\"\n",
              "       width=\"24px\">\n",
              "    <path d=\"M0 0h24v24H0V0z\" fill=\"none\"/>\n",
              "    <path d=\"M18.56 5.44l.94 2.06.94-2.06 2.06-.94-2.06-.94-.94-2.06-.94 2.06-2.06.94zm-11 1L8.5 8.5l.94-2.06 2.06-.94-2.06-.94L8.5 2.5l-.94 2.06-2.06.94zm10 10l.94 2.06.94-2.06 2.06-.94-2.06-.94-.94-2.06-.94 2.06-2.06.94z\"/><path d=\"M17.41 7.96l-1.37-1.37c-.4-.4-.92-.59-1.43-.59-.52 0-1.04.2-1.43.59L10.3 9.45l-7.72 7.72c-.78.78-.78 2.05 0 2.83L4 21.41c.39.39.9.59 1.41.59.51 0 1.02-.2 1.41-.59l7.78-7.78 2.81-2.81c.8-.78.8-2.07 0-2.86zM5.41 20L4 18.59l7.72-7.72 1.47 1.35L5.41 20z\"/>\n",
              "  </svg>\n",
              "      </button>\n",
              "      \n",
              "  <style>\n",
              "    .colab-df-container {\n",
              "      display:flex;\n",
              "      flex-wrap:wrap;\n",
              "      gap: 12px;\n",
              "    }\n",
              "\n",
              "    .colab-df-convert {\n",
              "      background-color: #E8F0FE;\n",
              "      border: none;\n",
              "      border-radius: 50%;\n",
              "      cursor: pointer;\n",
              "      display: none;\n",
              "      fill: #1967D2;\n",
              "      height: 32px;\n",
              "      padding: 0 0 0 0;\n",
              "      width: 32px;\n",
              "    }\n",
              "\n",
              "    .colab-df-convert:hover {\n",
              "      background-color: #E2EBFA;\n",
              "      box-shadow: 0px 1px 2px rgba(60, 64, 67, 0.3), 0px 1px 3px 1px rgba(60, 64, 67, 0.15);\n",
              "      fill: #174EA6;\n",
              "    }\n",
              "\n",
              "    [theme=dark] .colab-df-convert {\n",
              "      background-color: #3B4455;\n",
              "      fill: #D2E3FC;\n",
              "    }\n",
              "\n",
              "    [theme=dark] .colab-df-convert:hover {\n",
              "      background-color: #434B5C;\n",
              "      box-shadow: 0px 1px 3px 1px rgba(0, 0, 0, 0.15);\n",
              "      filter: drop-shadow(0px 1px 2px rgba(0, 0, 0, 0.3));\n",
              "      fill: #FFFFFF;\n",
              "    }\n",
              "  </style>\n",
              "\n",
              "      <script>\n",
              "        const buttonEl =\n",
              "          document.querySelector('#df-ac27512e-802f-496a-9839-8ffb7e838b48 button.colab-df-convert');\n",
              "        buttonEl.style.display =\n",
              "          google.colab.kernel.accessAllowed ? 'block' : 'none';\n",
              "\n",
              "        async function convertToInteractive(key) {\n",
              "          const element = document.querySelector('#df-ac27512e-802f-496a-9839-8ffb7e838b48');\n",
              "          const dataTable =\n",
              "            await google.colab.kernel.invokeFunction('convertToInteractive',\n",
              "                                                     [key], {});\n",
              "          if (!dataTable) return;\n",
              "\n",
              "          const docLinkHtml = 'Like what you see? Visit the ' +\n",
              "            '<a target=\"_blank\" href=https://colab.research.google.com/notebooks/data_table.ipynb>data table notebook</a>'\n",
              "            + ' to learn more about interactive tables.';\n",
              "          element.innerHTML = '';\n",
              "          dataTable['output_type'] = 'display_data';\n",
              "          await google.colab.output.renderOutput(dataTable, element);\n",
              "          const docLink = document.createElement('div');\n",
              "          docLink.innerHTML = docLinkHtml;\n",
              "          element.appendChild(docLink);\n",
              "        }\n",
              "      </script>\n",
              "    </div>\n",
              "  </div>\n",
              "  "
            ]
          },
          "metadata": {},
          "execution_count": 76
        }
      ]
    },
    {
      "cell_type": "code",
      "source": [
        "df_x = df[[\"sepal length\",\"sepal width\",\"petal length\",\"petal width\"]]\n",
        "df_y = df[[\"class\"]]"
      ],
      "metadata": {
        "id": "GDuQywMr3j0V"
      },
      "execution_count": 77,
      "outputs": []
    },
    {
      "cell_type": "markdown",
      "source": [
        "## linear regression\n",
        "\n",
        "[Explicación](https://www.youtube.com/watch?v=ZkjP5RJLQF4)\n",
        "\n",
        "[Gradient Descent](https://medium.com/analytics-vidhya/linear-regression-with-gradient-descent-derivation-c10685ddf0f4)\n",
        "\n",
        "\n",
        " **learning rate** = 0.1 to 0.0000001 (approx)"
      ],
      "metadata": {
        "id": "RlhuoyUwznGW"
      }
    },
    {
      "cell_type": "code",
      "source": [
        "import numpy as np\n",
        "X = df_x.to_numpy(dtype='float', na_value=0)                                 \n",
        "y = df_y.to_numpy(dtype='float', na_value=0).reshape(len(df_y))        \n",
        "\n",
        "shape = X.shape\n",
        "X_size = shape[0]\n",
        "X_cols = shape[1]\n",
        "\n",
        "m = np.zeros(X_cols)  # slope, weight\n",
        "b = 0                 # intercept, bias\n",
        "learning_rate = .01\n",
        "train_iterations = 100000\n",
        "while (train_iterations != 1):   \n",
        "    denominador =  (1 / X_size)\n",
        "    loss = (np.dot(X, m) + b) - y\n",
        "    m = m - (learning_rate * denominador * np.dot(X.T, loss))\n",
        "    b = b - (learning_rate * denominador * np.sum(loss))\n",
        "    \n",
        "    train_iterations = train_iterations - 1 \n",
        "print(\"slope: \", m, \"intercept: \", b)"
      ],
      "metadata": {
        "colab": {
          "base_uri": "https://localhost:8080/"
        },
        "id": "ylHEgqdv1IV3",
        "outputId": "3e3d6e57-63eb-4461-e73f-e2f535aaedd9"
      },
      "execution_count": 94,
      "outputs": [
        {
          "output_type": "stream",
          "name": "stdout",
          "text": [
            "slope:  [-0.11188405 -0.04006663  0.22864227  0.60924367] intercept:  0.18634786464057504\n"
          ]
        }
      ]
    },
    {
      "cell_type": "code",
      "source": [
        "producto_punto = np.dot(X, m) \n",
        "predicted_y = producto_punto + b\n",
        "predicted_y"
      ],
      "metadata": {
        "colab": {
          "base_uri": "https://localhost:8080/"
        },
        "id": "UC4zWpqCziiY",
        "outputId": "dd3afccb-0379-43cc-8038-d3a2e860d00d"
      },
      "execution_count": 89,
      "outputs": [
        {
          "output_type": "execute_result",
          "data": {
            "text/plain": [
              "array([-8.25460908e-02, -4.01359668e-02, -4.86367083e-02,  1.22868143e-02,\n",
              "       -7.53643479e-02,  5.83034588e-02,  3.83269667e-02, -4.44867955e-02,\n",
              "        1.98127233e-02, -8.22027695e-02, -1.01260405e-01,  7.54242763e-04,\n",
              "       -8.98719287e-02, -1.02522583e-01, -2.26626697e-01, -4.10235253e-02,\n",
              "       -3.31534502e-02, -2.16217234e-02, -3.21794625e-02, -1.07774840e-02,\n",
              "       -4.35119630e-02,  5.41535460e-02, -1.22067635e-01,  1.76833018e-01,\n",
              "        6.93469245e-02, -5.59591778e-03,  1.00226167e-01, -7.08702691e-02,\n",
              "       -8.97278337e-02,  1.99559735e-02,  1.27742306e-02,  3.26083174e-02,\n",
              "       -1.55834612e-01, -1.55346351e-01, -2.12784021e-02, -1.05066152e-01,\n",
              "       -1.50163940e-01, -1.25100310e-01, -7.05816654e-03, -5.56752010e-02,\n",
              "       -3.32975452e-02,  7.07244337e-02, -1.50714918e-02,  2.18068239e-01,\n",
              "        1.41603792e-01,  3.19768061e-02, -4.88376242e-02, -1.45840755e-02,\n",
              "       -9.00719998e-02, -6.33443601e-02,  1.20250610e+00,  1.28483245e+00,\n",
              "        1.32435399e+00,  1.18541819e+00,  1.31253492e+00,  1.25732920e+00,\n",
              "        1.39866701e+00,  9.05719266e-01,  1.17549112e+00,  1.24101689e+00,\n",
              "        9.56285965e-01,  1.28019512e+00,  9.50709721e-01,  1.31522174e+00,\n",
              "        1.05873290e+00,  1.17148530e+00,  1.38235302e+00,  9.75917446e-01,\n",
              "        1.34727588e+00,  1.02150350e+00,  1.59214026e+00,  1.09825444e+00,\n",
              "        1.41552440e+00,  1.19737967e+00,  1.12927525e+00,  1.18668037e+00,\n",
              "        1.26377379e+00,  1.49545043e+00,  1.34160606e+00,  8.53927151e-01,\n",
              "        1.01383434e+00,  9.30045742e-01,  1.05203773e+00,  1.54772911e+00,\n",
              "        1.40472983e+00,  1.38249711e+00,  1.30100235e+00,  1.18736785e+00,\n",
              "        1.16904737e+00,  1.17740486e+00,  1.20393074e+00,  1.28835085e+00,\n",
              "        1.07890862e+00,  8.98537523e-01,  1.20393159e+00,  1.11979883e+00,\n",
              "        1.18472986e+00,  1.15165206e+00,  8.71667478e-01,  1.16587229e+00,\n",
              "        2.24422127e+00,  1.75287903e+00,  1.90017232e+00,  1.74232044e+00,\n",
              "        2.00536289e+00,  2.00427988e+00,  1.60255390e+00,  1.79048598e+00,\n",
              "        1.75932192e+00,  2.15436986e+00,  1.71545124e+00,  1.73147705e+00,\n",
              "        1.84228063e+00,  1.81014090e+00,  2.05349420e+00,  1.95514120e+00,\n",
              "        1.69307274e+00,  2.04482677e+00,  2.19955954e+00,  1.48397383e+00,\n",
              "        1.99065609e+00,  1.78644509e+00,  1.96304466e+00,  1.59028418e+00,\n",
              "        1.88717750e+00,  1.72106171e+00,  1.57460169e+00,  1.60064100e+00,\n",
              "        1.91791180e+00,  1.56149785e+00,  1.79850015e+00,  1.83200854e+00,\n",
              "        1.97883617e+00,  1.44923287e+00,  1.53301977e+00,  2.00061908e+00,\n",
              "        2.08783333e+00,  1.70025448e+00,  1.58896518e+00,  1.80422133e+00,\n",
              "        2.05509970e+00,  1.85747738e+00,  1.75287903e+00,  2.04757295e+00,\n",
              "        2.13087497e+00,  1.90672509e+00,  1.68208610e+00,  1.74632879e+00,\n",
              "        1.99236892e+00,  1.66874626e+00])"
            ]
          },
          "metadata": {},
          "execution_count": 89
        }
      ]
    },
    {
      "cell_type": "code",
      "source": [
        "from sklearn.linear_model import LinearRegression\n",
        "m1 = LinearRegression().fit(X, y)\n",
        "print(m1.coef_, m1.intercept_)"
      ],
      "metadata": {
        "colab": {
          "base_uri": "https://localhost:8080/"
        },
        "id": "h0v4xNIvENuJ",
        "outputId": "d6e047c2-097c-4c01-8d9d-146bd3e1eda5"
      },
      "execution_count": 81,
      "outputs": [
        {
          "output_type": "stream",
          "name": "stdout",
          "text": [
            "[-0.11190585 -0.04007949  0.22864503  0.60925205] 0.18649524720624788\n"
          ]
        }
      ]
    }
  ]
}