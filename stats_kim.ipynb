{
 "cells": [
  {
   "cell_type": "code",
   "execution_count": 1,
   "metadata": {},
   "outputs": [
    {
     "name": "stdout",
     "output_type": "stream",
     "text": [
      "Collecting scipy\n",
      "  Using cached scipy-1.9.1-cp38-cp38-manylinux_2_17_x86_64.manylinux2014_x86_64.whl (43.4 MB)\n",
      "Collecting numpy<1.25.0,>=1.18.5\n",
      "  Using cached numpy-1.23.2-cp38-cp38-manylinux_2_17_x86_64.manylinux2014_x86_64.whl (17.1 MB)\n",
      "Installing collected packages: numpy, scipy\n",
      "Successfully installed numpy-1.23.2 scipy-1.9.1\n"
     ]
    }
   ],
   "source": [
    "!pip install scipy"
   ]
  },
  {
   "cell_type": "code",
   "execution_count": 13,
   "metadata": {},
   "outputs": [
    {
     "name": "stdout",
     "output_type": "stream",
     "text": [
      "z0  2.3263478740408408\n",
      "z estrella 2.8977276264040754\n",
      "valor p 0.001879384332872605\n"
     ]
    }
   ],
   "source": [
    "# 20 mujeres de 63 empleados\n",
    "# Confidece level .01\n",
    "\n",
    "# PASO 1 Hipotesis\n",
    "# H0 Women_proption ==  Male_proportion \n",
    "# H0 P=.5\n",
    "\n",
    "# REGLAS DE DECISION\n",
    "# Z0 = qnorm()\n",
    "import math as mth\n",
    "from scipy.stats import norm\n",
    "print(\"z0 \", abs(norm.ppf(.01))) # alfa aka confidence level\n",
    "\n",
    "\n",
    "#Se rechaza h0 si:\n",
    "# si ze > 2.326 este es z0\n",
    "# OR \n",
    "# si valor p<0.01\n",
    "n = 63  #sample\n",
    "x = 20  #value\n",
    "P = 0.5 #proportion\n",
    "\n",
    "# CODIGO \n",
    "# Valor Z*\n",
    "p = x/n\n",
    "sp = mth.sqrt((P*(1-P))/n)\n",
    "\n",
    "ze = (p-P)/sp\n",
    "print(\"z estrella\", abs(ze))\n",
    "\n",
    "# Valor P - probabilidad de que salga el value, en este caso el lado izquierdo\n",
    "print(\"valor p\", norm.cdf(ze)) \n",
    "\n",
    "# RESULTADO\n"
   ]
  }
 ],
 "metadata": {
  "kernelspec": {
   "display_name": "Python 3.8.10 ('school': venv)",
   "language": "python",
   "name": "python3"
  },
  "language_info": {
   "codemirror_mode": {
    "name": "ipython",
    "version": 3
   },
   "file_extension": ".py",
   "mimetype": "text/x-python",
   "name": "python",
   "nbconvert_exporter": "python",
   "pygments_lexer": "ipython3",
   "version": "3.8.10"
  },
  "orig_nbformat": 4,
  "vscode": {
   "interpreter": {
    "hash": "02f280ca3a7c352ce5584effa3a48991aac84dfa9635c61e8cec6b96261decaf"
   }
  }
 },
 "nbformat": 4,
 "nbformat_minor": 2
}
