{
  "cells": [
    {
      "cell_type": "code",
      "execution_count": null,
      "metadata": {
        "colab": {
          "base_uri": "https://localhost:8080/",
          "height": 191
        },
        "id": "bM2yQmI52Zx-",
        "outputId": "c96937ba-a1ec-4b98-9a80-bacba6125cc3"
      },
      "outputs": [],
      "source": [
        "import requests\n",
        "import json\n",
        "import pandas as pd\n",
        "\n",
        "http = requests.Session()\n",
        "\n",
        "url = f'https://api.openweathermap.org/data/2.5/weather?q={city}&appid={token}&units=metric'\n",
        "response = http.get(url)\n",
        "\n",
        "info = json.loads(response.text)\n",
        "df_main_columns = pd.json_normalize(info).head()\n",
        "df_weather_columns = pd.json_normalize(info, record_path='weather').add_prefix('weather.')\n",
        "df_final = pd.concat([df_main_columns, df_weather_columns], axis=1).drop(['weather'], axis=1)\n",
        "df_final['dt_not_timezoned'] = pd.to_datetime(df_final['dt'], unit='s')\n",
        "df_final"
      ]
    },
    {
      "cell_type": "code",
      "execution_count": 9,
      "metadata": {
        "id": "-OsLWy4O5oU7"
      },
      "outputs": [],
      "source": [
        "json_body = [\n",
        "                {\n",
        "                    'measurement': 'weather',\n",
        "                    'tags':\n",
        "                    {\n",
        "                        'country': df_final['sys.country'][0],\n",
        "                        'city': df_final['name'][0],\n",
        "                        'weather_class': df_final['weather.main'][0]\n",
        "                    },\n",
        "                    'time': df_final['dt_not_timezoned'][0].isoformat('T') + 'Z', \n",
        "                    'fields': \n",
        "                    {\n",
        "                        'visibility': df_final['visibility'][0],\n",
        "                        'temperature': df_final['main.temp'][0],\n",
        "                        'sensation': df_final['main.feels_like'][0],\n",
        "                        'pressure': df_final['main.pressure'][0],\n",
        "                        'humidity': df_final['main.humidity'][0],\n",
        "                        'cloudiness': df_final['clouds.all'][0] \n",
        "                    }\n",
        "                }\n",
        "            ]"
      ]
    },
    {
      "cell_type": "code",
      "execution_count": 10,
      "metadata": {
        "id": "g66_UgG34kBC"
      },
      "outputs": [],
      "source": [
        "from influxdb_client import InfluxDBClient\n",
        "from influxdb_client.client.write_api import SYNCHRONOUS\n",
        "my_token = 'your token'\n",
        "my_org = 'your org'\n",
        "my_bucket = 'your bucket'\n",
        "with InfluxDBClient(url='https://us-east-1-1.aws.cloud2.influxdata.com', token=my_token, org=my_org) as client:\n",
        "    write_api = client.write_api(write_options=SYNCHRONOUS)\n",
        "    write_api.write(my_bucket, my_org, json_body )\n",
        "    client.close()"
      ]
    }
  ],
  "metadata": {
    "colab": {
      "collapsed_sections": [],
      "name": "Untitled0.ipynb",
      "provenance": []
    },
    "kernelspec": {
      "display_name": "Python 3",
      "name": "python3"
    },
    "language_info": {
      "name": "python"
    }
  },
  "nbformat": 4,
  "nbformat_minor": 0
}
