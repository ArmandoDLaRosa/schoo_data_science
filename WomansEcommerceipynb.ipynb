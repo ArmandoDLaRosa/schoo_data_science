{
  "nbformat": 4,
  "nbformat_minor": 0,
  "metadata": {
    "colab": {
      "name": "WomansEcommerceipynb",
      "provenance": [],
      "collapsed_sections": [],
      "toc_visible": true
    },
    "kernelspec": {
      "name": "python3",
      "display_name": "Python 3"
    },
    "language_info": {
      "name": "python"
    }
  },
  "cells": [
    {
      "cell_type": "markdown",
      "metadata": {
        "id": "jPnnP4LsFeTX"
      },
      "source": [
        "# **Análisis de Texto por medio de TextMining**\n"
      ]
    },
    {
      "cell_type": "markdown",
      "metadata": {
        "id": "1srMv2CAIce3"
      },
      "source": [
        "Source: [Women Clothes Ecommerce | Kaggle](https://www.kaggle.com/nicapotato/womens-ecommerce-clothing-reviews?select=Womens+Clothing+E-Commerce+Reviews.csv)"
      ]
    },
    {
      "cell_type": "markdown",
      "metadata": {
        "id": "PZuPm1C5F9j8"
      },
      "source": [
        "## **Lectura de Datos**"
      ]
    },
    {
      "cell_type": "code",
      "metadata": {
        "id": "yXsAVi37_X3A"
      },
      "source": [
        "import pandas as pd\n",
        "import numpy as np"
      ],
      "execution_count": null,
      "outputs": []
    },
    {
      "cell_type": "code",
      "metadata": {
        "colab": {
          "base_uri": "https://localhost:8080/"
        },
        "id": "VMULQqVI_aZV",
        "outputId": "16b8c776-0b43-46a5-ded1-e18d60b45e2d"
      },
      "source": [
        "from google.colab import drive\n",
        "drive.mount('/content/drive')"
      ],
      "execution_count": null,
      "outputs": [
        {
          "output_type": "stream",
          "text": [
            "Mounted at /content/drive\n"
          ],
          "name": "stdout"
        }
      ]
    },
    {
      "cell_type": "code",
      "metadata": {
        "id": "EbUT9fy8_6eG"
      },
      "source": [
        "womenEcom  = pd.read_csv('/content/drive/MyDrive/ColabNotebooks/DataScience/womenEcommerce/Copia de Womens Clothing E-Commerce Reviews.csv', encoding='iso8859-1')"
      ],
      "execution_count": null,
      "outputs": []
    },
    {
      "cell_type": "markdown",
      "metadata": {
        "id": "BB4uTTiHGF5-"
      },
      "source": [
        "## **EDA**"
      ]
    },
    {
      "cell_type": "markdown",
      "metadata": {
        "id": "SQ9TJp0KHEwh"
      },
      "source": [
        "### **Understanding the records**"
      ]
    },
    {
      "cell_type": "code",
      "metadata": {
        "colab": {
          "base_uri": "https://localhost:8080/",
          "height": 356
        },
        "id": "V9howgqpApFq",
        "outputId": "88abd81d-8b01-4dd4-f69f-6b69762f3df9"
      },
      "source": [
        "womenEcom.head(10)"
      ],
      "execution_count": null,
      "outputs": [
        {
          "output_type": "execute_result",
          "data": {
            "text/html": [
              "<div>\n",
              "<style scoped>\n",
              "    .dataframe tbody tr th:only-of-type {\n",
              "        vertical-align: middle;\n",
              "    }\n",
              "\n",
              "    .dataframe tbody tr th {\n",
              "        vertical-align: top;\n",
              "    }\n",
              "\n",
              "    .dataframe thead th {\n",
              "        text-align: right;\n",
              "    }\n",
              "</style>\n",
              "<table border=\"1\" class=\"dataframe\">\n",
              "  <thead>\n",
              "    <tr style=\"text-align: right;\">\n",
              "      <th></th>\n",
              "      <th>Unnamed: 0</th>\n",
              "      <th>Clothing ID</th>\n",
              "      <th>Age</th>\n",
              "      <th>Title</th>\n",
              "      <th>Review Text</th>\n",
              "      <th>Rating</th>\n",
              "      <th>Recommended IND</th>\n",
              "      <th>Positive Feedback Count</th>\n",
              "      <th>Division Name</th>\n",
              "      <th>Department Name</th>\n",
              "      <th>Class Name</th>\n",
              "    </tr>\n",
              "  </thead>\n",
              "  <tbody>\n",
              "    <tr>\n",
              "      <th>0</th>\n",
              "      <td>0</td>\n",
              "      <td>767</td>\n",
              "      <td>33</td>\n",
              "      <td>NaN</td>\n",
              "      <td>Absolutely wonderful - silky and sexy and comf...</td>\n",
              "      <td>4</td>\n",
              "      <td>1</td>\n",
              "      <td>0</td>\n",
              "      <td>Initmates</td>\n",
              "      <td>Intimate</td>\n",
              "      <td>Intimates</td>\n",
              "    </tr>\n",
              "    <tr>\n",
              "      <th>1</th>\n",
              "      <td>1</td>\n",
              "      <td>1080</td>\n",
              "      <td>34</td>\n",
              "      <td>NaN</td>\n",
              "      <td>Love this dress!  it's sooo pretty.  i happene...</td>\n",
              "      <td>5</td>\n",
              "      <td>1</td>\n",
              "      <td>4</td>\n",
              "      <td>General</td>\n",
              "      <td>Dresses</td>\n",
              "      <td>Dresses</td>\n",
              "    </tr>\n",
              "    <tr>\n",
              "      <th>2</th>\n",
              "      <td>2</td>\n",
              "      <td>1077</td>\n",
              "      <td>60</td>\n",
              "      <td>Some major design flaws</td>\n",
              "      <td>I had such high hopes for this dress and reall...</td>\n",
              "      <td>3</td>\n",
              "      <td>0</td>\n",
              "      <td>0</td>\n",
              "      <td>General</td>\n",
              "      <td>Dresses</td>\n",
              "      <td>Dresses</td>\n",
              "    </tr>\n",
              "    <tr>\n",
              "      <th>3</th>\n",
              "      <td>3</td>\n",
              "      <td>1049</td>\n",
              "      <td>50</td>\n",
              "      <td>My favorite buy!</td>\n",
              "      <td>I love, love, love this jumpsuit. it's fun, fl...</td>\n",
              "      <td>5</td>\n",
              "      <td>1</td>\n",
              "      <td>0</td>\n",
              "      <td>General Petite</td>\n",
              "      <td>Bottoms</td>\n",
              "      <td>Pants</td>\n",
              "    </tr>\n",
              "    <tr>\n",
              "      <th>4</th>\n",
              "      <td>4</td>\n",
              "      <td>847</td>\n",
              "      <td>47</td>\n",
              "      <td>Flattering shirt</td>\n",
              "      <td>This shirt is very flattering to all due to th...</td>\n",
              "      <td>5</td>\n",
              "      <td>1</td>\n",
              "      <td>6</td>\n",
              "      <td>General</td>\n",
              "      <td>Tops</td>\n",
              "      <td>Blouses</td>\n",
              "    </tr>\n",
              "    <tr>\n",
              "      <th>5</th>\n",
              "      <td>5</td>\n",
              "      <td>1080</td>\n",
              "      <td>49</td>\n",
              "      <td>Not for the very petite</td>\n",
              "      <td>I love tracy reese dresses, but this one is no...</td>\n",
              "      <td>2</td>\n",
              "      <td>0</td>\n",
              "      <td>4</td>\n",
              "      <td>General</td>\n",
              "      <td>Dresses</td>\n",
              "      <td>Dresses</td>\n",
              "    </tr>\n",
              "    <tr>\n",
              "      <th>6</th>\n",
              "      <td>6</td>\n",
              "      <td>858</td>\n",
              "      <td>39</td>\n",
              "      <td>Cagrcoal shimmer fun</td>\n",
              "      <td>I aded this in my basket at hte last mintue to...</td>\n",
              "      <td>5</td>\n",
              "      <td>1</td>\n",
              "      <td>1</td>\n",
              "      <td>General Petite</td>\n",
              "      <td>Tops</td>\n",
              "      <td>Knits</td>\n",
              "    </tr>\n",
              "    <tr>\n",
              "      <th>7</th>\n",
              "      <td>7</td>\n",
              "      <td>858</td>\n",
              "      <td>39</td>\n",
              "      <td>Shimmer, surprisingly goes with lots</td>\n",
              "      <td>I ordered this in carbon for store pick up, an...</td>\n",
              "      <td>4</td>\n",
              "      <td>1</td>\n",
              "      <td>4</td>\n",
              "      <td>General Petite</td>\n",
              "      <td>Tops</td>\n",
              "      <td>Knits</td>\n",
              "    </tr>\n",
              "    <tr>\n",
              "      <th>8</th>\n",
              "      <td>8</td>\n",
              "      <td>1077</td>\n",
              "      <td>24</td>\n",
              "      <td>Flattering</td>\n",
              "      <td>I love this dress. i usually get an xs but it ...</td>\n",
              "      <td>5</td>\n",
              "      <td>1</td>\n",
              "      <td>0</td>\n",
              "      <td>General</td>\n",
              "      <td>Dresses</td>\n",
              "      <td>Dresses</td>\n",
              "    </tr>\n",
              "    <tr>\n",
              "      <th>9</th>\n",
              "      <td>9</td>\n",
              "      <td>1077</td>\n",
              "      <td>34</td>\n",
              "      <td>Such a fun dress!</td>\n",
              "      <td>I'm 5\"5' and 125 lbs. i ordered the s petite t...</td>\n",
              "      <td>5</td>\n",
              "      <td>1</td>\n",
              "      <td>0</td>\n",
              "      <td>General</td>\n",
              "      <td>Dresses</td>\n",
              "      <td>Dresses</td>\n",
              "    </tr>\n",
              "  </tbody>\n",
              "</table>\n",
              "</div>"
            ],
            "text/plain": [
              "   Unnamed: 0  Clothing ID  Age  ...   Division Name Department Name  Class Name\n",
              "0           0          767   33  ...       Initmates        Intimate   Intimates\n",
              "1           1         1080   34  ...         General         Dresses     Dresses\n",
              "2           2         1077   60  ...         General         Dresses     Dresses\n",
              "3           3         1049   50  ...  General Petite         Bottoms       Pants\n",
              "4           4          847   47  ...         General            Tops     Blouses\n",
              "5           5         1080   49  ...         General         Dresses     Dresses\n",
              "6           6          858   39  ...  General Petite            Tops       Knits\n",
              "7           7          858   39  ...  General Petite            Tops       Knits\n",
              "8           8         1077   24  ...         General         Dresses     Dresses\n",
              "9           9         1077   34  ...         General         Dresses     Dresses\n",
              "\n",
              "[10 rows x 11 columns]"
            ]
          },
          "metadata": {
            "tags": []
          },
          "execution_count": 48
        }
      ]
    },
    {
      "cell_type": "code",
      "metadata": {
        "colab": {
          "base_uri": "https://localhost:8080/",
          "height": 1000
        },
        "id": "n6SDc6bHBB6Y",
        "outputId": "ece7ff9b-0be5-4d16-a864-1df50ee67f49"
      },
      "source": [
        "womenEcom.tail(10)"
      ],
      "execution_count": null,
      "outputs": [
        {
          "output_type": "execute_result",
          "data": {
            "text/html": [
              "<div>\n",
              "<style scoped>\n",
              "    .dataframe tbody tr th:only-of-type {\n",
              "        vertical-align: middle;\n",
              "    }\n",
              "\n",
              "    .dataframe tbody tr th {\n",
              "        vertical-align: top;\n",
              "    }\n",
              "\n",
              "    .dataframe thead th {\n",
              "        text-align: right;\n",
              "    }\n",
              "</style>\n",
              "<table border=\"1\" class=\"dataframe\">\n",
              "  <thead>\n",
              "    <tr style=\"text-align: right;\">\n",
              "      <th></th>\n",
              "      <th>Unnamed: 0</th>\n",
              "      <th>Clothing ID</th>\n",
              "      <th>Age</th>\n",
              "      <th>Title</th>\n",
              "      <th>Review Text</th>\n",
              "      <th>Rating</th>\n",
              "      <th>Recommended IND</th>\n",
              "      <th>Positive Feedback Count</th>\n",
              "      <th>Division Name</th>\n",
              "      <th>Department Name</th>\n",
              "      <th>Class Name</th>\n",
              "    </tr>\n",
              "  </thead>\n",
              "  <tbody>\n",
              "    <tr>\n",
              "      <th>23476</th>\n",
              "      <td>23476</td>\n",
              "      <td>522</td>\n",
              "      <td>27</td>\n",
              "      <td>Cheeky!</td>\n",
              "      <td>These bottoms are very cute but defiantly chee...</td>\n",
              "      <td>4</td>\n",
              "      <td>1</td>\n",
              "      <td>0</td>\n",
              "      <td>Initmates</td>\n",
              "      <td>Intimate</td>\n",
              "      <td>Swim</td>\n",
              "    </tr>\n",
              "    <tr>\n",
              "      <th>23477</th>\n",
              "      <td>23477</td>\n",
              "      <td>1094</td>\n",
              "      <td>39</td>\n",
              "      <td>Entrancing</td>\n",
              "      <td>I'm so impressed with the beautiful color comb...</td>\n",
              "      <td>4</td>\n",
              "      <td>1</td>\n",
              "      <td>5</td>\n",
              "      <td>General Petite</td>\n",
              "      <td>Dresses</td>\n",
              "      <td>Dresses</td>\n",
              "    </tr>\n",
              "    <tr>\n",
              "      <th>23478</th>\n",
              "      <td>23478</td>\n",
              "      <td>1104</td>\n",
              "      <td>32</td>\n",
              "      <td>Unflattering</td>\n",
              "      <td>I was surprised at the positive reviews for th...</td>\n",
              "      <td>1</td>\n",
              "      <td>0</td>\n",
              "      <td>0</td>\n",
              "      <td>General Petite</td>\n",
              "      <td>Dresses</td>\n",
              "      <td>Dresses</td>\n",
              "    </tr>\n",
              "    <tr>\n",
              "      <th>23479</th>\n",
              "      <td>23479</td>\n",
              "      <td>1005</td>\n",
              "      <td>42</td>\n",
              "      <td>What a fun piece!</td>\n",
              "      <td>So i wasn't sure about ordering this skirt bec...</td>\n",
              "      <td>5</td>\n",
              "      <td>1</td>\n",
              "      <td>0</td>\n",
              "      <td>General Petite</td>\n",
              "      <td>Bottoms</td>\n",
              "      <td>Skirts</td>\n",
              "    </tr>\n",
              "    <tr>\n",
              "      <th>23480</th>\n",
              "      <td>23480</td>\n",
              "      <td>862</td>\n",
              "      <td>35</td>\n",
              "      <td>NaN</td>\n",
              "      <td>NaN</td>\n",
              "      <td>5</td>\n",
              "      <td>1</td>\n",
              "      <td>0</td>\n",
              "      <td>General Petite</td>\n",
              "      <td>Tops</td>\n",
              "      <td>Knits</td>\n",
              "    </tr>\n",
              "    <tr>\n",
              "      <th>23481</th>\n",
              "      <td>23481</td>\n",
              "      <td>1104</td>\n",
              "      <td>34</td>\n",
              "      <td>Great dress for many occasions</td>\n",
              "      <td>I was very happy to snag this dress at such a ...</td>\n",
              "      <td>5</td>\n",
              "      <td>1</td>\n",
              "      <td>0</td>\n",
              "      <td>General Petite</td>\n",
              "      <td>Dresses</td>\n",
              "      <td>Dresses</td>\n",
              "    </tr>\n",
              "    <tr>\n",
              "      <th>23482</th>\n",
              "      <td>23482</td>\n",
              "      <td>862</td>\n",
              "      <td>48</td>\n",
              "      <td>Wish it was made of cotton</td>\n",
              "      <td>It reminds me of maternity clothes. soft, stre...</td>\n",
              "      <td>3</td>\n",
              "      <td>1</td>\n",
              "      <td>0</td>\n",
              "      <td>General Petite</td>\n",
              "      <td>Tops</td>\n",
              "      <td>Knits</td>\n",
              "    </tr>\n",
              "    <tr>\n",
              "      <th>23483</th>\n",
              "      <td>23483</td>\n",
              "      <td>1104</td>\n",
              "      <td>31</td>\n",
              "      <td>Cute, but see through</td>\n",
              "      <td>This fit well, but the top was very see throug...</td>\n",
              "      <td>3</td>\n",
              "      <td>0</td>\n",
              "      <td>1</td>\n",
              "      <td>General Petite</td>\n",
              "      <td>Dresses</td>\n",
              "      <td>Dresses</td>\n",
              "    </tr>\n",
              "    <tr>\n",
              "      <th>23484</th>\n",
              "      <td>23484</td>\n",
              "      <td>1084</td>\n",
              "      <td>28</td>\n",
              "      <td>Very cute dress, perfect for summer parties an...</td>\n",
              "      <td>I bought this dress for a wedding i have this ...</td>\n",
              "      <td>3</td>\n",
              "      <td>1</td>\n",
              "      <td>2</td>\n",
              "      <td>General</td>\n",
              "      <td>Dresses</td>\n",
              "      <td>Dresses</td>\n",
              "    </tr>\n",
              "    <tr>\n",
              "      <th>23485</th>\n",
              "      <td>23485</td>\n",
              "      <td>1104</td>\n",
              "      <td>52</td>\n",
              "      <td>Please make more like this one!</td>\n",
              "      <td>This dress in a lovely platinum is feminine an...</td>\n",
              "      <td>5</td>\n",
              "      <td>1</td>\n",
              "      <td>22</td>\n",
              "      <td>General Petite</td>\n",
              "      <td>Dresses</td>\n",
              "      <td>Dresses</td>\n",
              "    </tr>\n",
              "  </tbody>\n",
              "</table>\n",
              "</div>"
            ],
            "text/plain": [
              "       Unnamed: 0  Clothing ID  Age  ...   Division Name Department Name  Class Name\n",
              "23476       23476          522   27  ...       Initmates        Intimate        Swim\n",
              "23477       23477         1094   39  ...  General Petite         Dresses     Dresses\n",
              "23478       23478         1104   32  ...  General Petite         Dresses     Dresses\n",
              "23479       23479         1005   42  ...  General Petite         Bottoms      Skirts\n",
              "23480       23480          862   35  ...  General Petite            Tops       Knits\n",
              "23481       23481         1104   34  ...  General Petite         Dresses     Dresses\n",
              "23482       23482          862   48  ...  General Petite            Tops       Knits\n",
              "23483       23483         1104   31  ...  General Petite         Dresses     Dresses\n",
              "23484       23484         1084   28  ...         General         Dresses     Dresses\n",
              "23485       23485         1104   52  ...  General Petite         Dresses     Dresses\n",
              "\n",
              "[10 rows x 11 columns]"
            ]
          },
          "metadata": {
            "tags": []
          },
          "execution_count": 21
        }
      ]
    },
    {
      "cell_type": "markdown",
      "metadata": {
        "id": "qHZji3rTHtme"
      },
      "source": [
        "### **Data type**"
      ]
    },
    {
      "cell_type": "code",
      "metadata": {
        "colab": {
          "base_uri": "https://localhost:8080/"
        },
        "id": "wAM-irLYCIx_",
        "outputId": "ceef625c-feef-4beb-c78c-1b37bd37b751"
      },
      "source": [
        "womenEcom.info()"
      ],
      "execution_count": null,
      "outputs": [
        {
          "output_type": "stream",
          "text": [
            "<class 'pandas.core.frame.DataFrame'>\n",
            "RangeIndex: 23486 entries, 0 to 23485\n",
            "Data columns (total 11 columns):\n",
            " #   Column                   Non-Null Count  Dtype \n",
            "---  ------                   --------------  ----- \n",
            " 0   Unnamed: 0               23486 non-null  int64 \n",
            " 1   Clothing ID              23486 non-null  int64 \n",
            " 2   Age                      23486 non-null  int64 \n",
            " 3   Title                    19676 non-null  object\n",
            " 4   Review Text              22641 non-null  object\n",
            " 5   Rating                   23486 non-null  int64 \n",
            " 6   Recommended IND          23486 non-null  int64 \n",
            " 7   Positive Feedback Count  23486 non-null  int64 \n",
            " 8   Division Name            23472 non-null  object\n",
            " 9   Department Name          23472 non-null  object\n",
            " 10  Class Name               23472 non-null  object\n",
            "dtypes: int64(6), object(5)\n",
            "memory usage: 2.0+ MB\n"
          ],
          "name": "stdout"
        }
      ]
    },
    {
      "cell_type": "markdown",
      "metadata": {
        "id": "SOHdTbpuIywG"
      },
      "source": [
        "### **NULLS per column**"
      ]
    },
    {
      "cell_type": "code",
      "metadata": {
        "colab": {
          "base_uri": "https://localhost:8080/"
        },
        "id": "IBtwBlA5DBqj",
        "outputId": "f5019a58-5a8c-4120-dfd7-1a32c24d7bfe"
      },
      "source": [
        "womenEcom.isnull().sum()"
      ],
      "execution_count": null,
      "outputs": [
        {
          "output_type": "execute_result",
          "data": {
            "text/plain": [
              "Unnamed: 0                 0\n",
              "Clothing ID                0\n",
              "Age                        0\n",
              "Title                      0\n",
              "Review Text                0\n",
              "Rating                     0\n",
              "Recommended IND            0\n",
              "Positive Feedback Count    0\n",
              "Division Name              0\n",
              "Department Name            0\n",
              "Class Name                 0\n",
              "Negative_Review            0\n",
              "dtype: int64"
            ]
          },
          "metadata": {
            "tags": []
          },
          "execution_count": 54
        }
      ]
    },
    {
      "cell_type": "code",
      "metadata": {
        "id": "8WTMr-LPimHd"
      },
      "source": [
        "womenEcom = womenEcom.fillna('NAN')"
      ],
      "execution_count": null,
      "outputs": []
    },
    {
      "cell_type": "markdown",
      "metadata": {
        "id": "BKa-vAgTI-2m"
      },
      "source": [
        "### **Numeric Data**"
      ]
    },
    {
      "cell_type": "code",
      "metadata": {
        "colab": {
          "base_uri": "https://localhost:8080/",
          "height": 416
        },
        "id": "wy9Rco-SCYdH",
        "outputId": "af5c7362-f5b7-4d36-d2dd-5d4f19b13626"
      },
      "source": [
        "numbers = womenEcom.iloc[:, [1,2,3,4,5,6,7,8,9,10]]\n",
        "numbers.select_dtypes(\"number\")"
      ],
      "execution_count": null,
      "outputs": [
        {
          "output_type": "execute_result",
          "data": {
            "text/html": [
              "<div>\n",
              "<style scoped>\n",
              "    .dataframe tbody tr th:only-of-type {\n",
              "        vertical-align: middle;\n",
              "    }\n",
              "\n",
              "    .dataframe tbody tr th {\n",
              "        vertical-align: top;\n",
              "    }\n",
              "\n",
              "    .dataframe thead th {\n",
              "        text-align: right;\n",
              "    }\n",
              "</style>\n",
              "<table border=\"1\" class=\"dataframe\">\n",
              "  <thead>\n",
              "    <tr style=\"text-align: right;\">\n",
              "      <th></th>\n",
              "      <th>Clothing ID</th>\n",
              "      <th>Age</th>\n",
              "      <th>Rating</th>\n",
              "      <th>Recommended IND</th>\n",
              "      <th>Positive Feedback Count</th>\n",
              "    </tr>\n",
              "  </thead>\n",
              "  <tbody>\n",
              "    <tr>\n",
              "      <th>0</th>\n",
              "      <td>767</td>\n",
              "      <td>33</td>\n",
              "      <td>4</td>\n",
              "      <td>1</td>\n",
              "      <td>0</td>\n",
              "    </tr>\n",
              "    <tr>\n",
              "      <th>1</th>\n",
              "      <td>1080</td>\n",
              "      <td>34</td>\n",
              "      <td>5</td>\n",
              "      <td>1</td>\n",
              "      <td>4</td>\n",
              "    </tr>\n",
              "    <tr>\n",
              "      <th>2</th>\n",
              "      <td>1077</td>\n",
              "      <td>60</td>\n",
              "      <td>3</td>\n",
              "      <td>0</td>\n",
              "      <td>0</td>\n",
              "    </tr>\n",
              "    <tr>\n",
              "      <th>3</th>\n",
              "      <td>1049</td>\n",
              "      <td>50</td>\n",
              "      <td>5</td>\n",
              "      <td>1</td>\n",
              "      <td>0</td>\n",
              "    </tr>\n",
              "    <tr>\n",
              "      <th>4</th>\n",
              "      <td>847</td>\n",
              "      <td>47</td>\n",
              "      <td>5</td>\n",
              "      <td>1</td>\n",
              "      <td>6</td>\n",
              "    </tr>\n",
              "    <tr>\n",
              "      <th>...</th>\n",
              "      <td>...</td>\n",
              "      <td>...</td>\n",
              "      <td>...</td>\n",
              "      <td>...</td>\n",
              "      <td>...</td>\n",
              "    </tr>\n",
              "    <tr>\n",
              "      <th>23481</th>\n",
              "      <td>1104</td>\n",
              "      <td>34</td>\n",
              "      <td>5</td>\n",
              "      <td>1</td>\n",
              "      <td>0</td>\n",
              "    </tr>\n",
              "    <tr>\n",
              "      <th>23482</th>\n",
              "      <td>862</td>\n",
              "      <td>48</td>\n",
              "      <td>3</td>\n",
              "      <td>1</td>\n",
              "      <td>0</td>\n",
              "    </tr>\n",
              "    <tr>\n",
              "      <th>23483</th>\n",
              "      <td>1104</td>\n",
              "      <td>31</td>\n",
              "      <td>3</td>\n",
              "      <td>0</td>\n",
              "      <td>1</td>\n",
              "    </tr>\n",
              "    <tr>\n",
              "      <th>23484</th>\n",
              "      <td>1084</td>\n",
              "      <td>28</td>\n",
              "      <td>3</td>\n",
              "      <td>1</td>\n",
              "      <td>2</td>\n",
              "    </tr>\n",
              "    <tr>\n",
              "      <th>23485</th>\n",
              "      <td>1104</td>\n",
              "      <td>52</td>\n",
              "      <td>5</td>\n",
              "      <td>1</td>\n",
              "      <td>22</td>\n",
              "    </tr>\n",
              "  </tbody>\n",
              "</table>\n",
              "<p>23486 rows × 5 columns</p>\n",
              "</div>"
            ],
            "text/plain": [
              "       Clothing ID  Age  Rating  Recommended IND  Positive Feedback Count\n",
              "0              767   33       4                1                        0\n",
              "1             1080   34       5                1                        4\n",
              "2             1077   60       3                0                        0\n",
              "3             1049   50       5                1                        0\n",
              "4              847   47       5                1                        6\n",
              "...            ...  ...     ...              ...                      ...\n",
              "23481         1104   34       5                1                        0\n",
              "23482          862   48       3                1                        0\n",
              "23483         1104   31       3                0                        1\n",
              "23484         1084   28       3                1                        2\n",
              "23485         1104   52       5                1                       22\n",
              "\n",
              "[23486 rows x 5 columns]"
            ]
          },
          "metadata": {
            "tags": []
          },
          "execution_count": 18
        }
      ]
    },
    {
      "cell_type": "code",
      "metadata": {
        "colab": {
          "base_uri": "https://localhost:8080/",
          "height": 294
        },
        "id": "9ert44LfGYbN",
        "outputId": "c740db47-e153-42d1-a182-ca796cf59372"
      },
      "source": [
        "numbers.describe()"
      ],
      "execution_count": null,
      "outputs": [
        {
          "output_type": "execute_result",
          "data": {
            "text/html": [
              "<div>\n",
              "<style scoped>\n",
              "    .dataframe tbody tr th:only-of-type {\n",
              "        vertical-align: middle;\n",
              "    }\n",
              "\n",
              "    .dataframe tbody tr th {\n",
              "        vertical-align: top;\n",
              "    }\n",
              "\n",
              "    .dataframe thead th {\n",
              "        text-align: right;\n",
              "    }\n",
              "</style>\n",
              "<table border=\"1\" class=\"dataframe\">\n",
              "  <thead>\n",
              "    <tr style=\"text-align: right;\">\n",
              "      <th></th>\n",
              "      <th>Clothing ID</th>\n",
              "      <th>Age</th>\n",
              "      <th>Rating</th>\n",
              "      <th>Recommended IND</th>\n",
              "      <th>Positive Feedback Count</th>\n",
              "    </tr>\n",
              "  </thead>\n",
              "  <tbody>\n",
              "    <tr>\n",
              "      <th>count</th>\n",
              "      <td>23486.000000</td>\n",
              "      <td>23486.000000</td>\n",
              "      <td>23486.000000</td>\n",
              "      <td>23486.000000</td>\n",
              "      <td>23486.000000</td>\n",
              "    </tr>\n",
              "    <tr>\n",
              "      <th>mean</th>\n",
              "      <td>918.118709</td>\n",
              "      <td>43.198544</td>\n",
              "      <td>4.196032</td>\n",
              "      <td>0.822362</td>\n",
              "      <td>2.535936</td>\n",
              "    </tr>\n",
              "    <tr>\n",
              "      <th>std</th>\n",
              "      <td>203.298980</td>\n",
              "      <td>12.279544</td>\n",
              "      <td>1.110031</td>\n",
              "      <td>0.382216</td>\n",
              "      <td>5.702202</td>\n",
              "    </tr>\n",
              "    <tr>\n",
              "      <th>min</th>\n",
              "      <td>0.000000</td>\n",
              "      <td>18.000000</td>\n",
              "      <td>1.000000</td>\n",
              "      <td>0.000000</td>\n",
              "      <td>0.000000</td>\n",
              "    </tr>\n",
              "    <tr>\n",
              "      <th>25%</th>\n",
              "      <td>861.000000</td>\n",
              "      <td>34.000000</td>\n",
              "      <td>4.000000</td>\n",
              "      <td>1.000000</td>\n",
              "      <td>0.000000</td>\n",
              "    </tr>\n",
              "    <tr>\n",
              "      <th>50%</th>\n",
              "      <td>936.000000</td>\n",
              "      <td>41.000000</td>\n",
              "      <td>5.000000</td>\n",
              "      <td>1.000000</td>\n",
              "      <td>1.000000</td>\n",
              "    </tr>\n",
              "    <tr>\n",
              "      <th>75%</th>\n",
              "      <td>1078.000000</td>\n",
              "      <td>52.000000</td>\n",
              "      <td>5.000000</td>\n",
              "      <td>1.000000</td>\n",
              "      <td>3.000000</td>\n",
              "    </tr>\n",
              "    <tr>\n",
              "      <th>max</th>\n",
              "      <td>1205.000000</td>\n",
              "      <td>99.000000</td>\n",
              "      <td>5.000000</td>\n",
              "      <td>1.000000</td>\n",
              "      <td>122.000000</td>\n",
              "    </tr>\n",
              "  </tbody>\n",
              "</table>\n",
              "</div>"
            ],
            "text/plain": [
              "        Clothing ID           Age  ...  Recommended IND  Positive Feedback Count\n",
              "count  23486.000000  23486.000000  ...     23486.000000             23486.000000\n",
              "mean     918.118709     43.198544  ...         0.822362                 2.535936\n",
              "std      203.298980     12.279544  ...         0.382216                 5.702202\n",
              "min        0.000000     18.000000  ...         0.000000                 0.000000\n",
              "25%      861.000000     34.000000  ...         1.000000                 0.000000\n",
              "50%      936.000000     41.000000  ...         1.000000                 1.000000\n",
              "75%     1078.000000     52.000000  ...         1.000000                 3.000000\n",
              "max     1205.000000     99.000000  ...         1.000000               122.000000\n",
              "\n",
              "[8 rows x 5 columns]"
            ]
          },
          "metadata": {
            "tags": []
          },
          "execution_count": 19
        }
      ]
    },
    {
      "cell_type": "markdown",
      "metadata": {
        "id": "7yWcyHRdJJd8"
      },
      "source": [
        "## **Ratings Plot**\n",
        "\n",
        "El número de estrellas que más se ha da  en el sitio."
      ]
    },
    {
      "cell_type": "code",
      "metadata": {
        "id": "RLVUWekwJb5l"
      },
      "source": [
        "import matplotlib.pyplot as plt\n",
        "numbers.rename(columns= {'Positive Feedback Count':'isPositive'}, inplace = True)\n",
        "numbers.head()"
      ],
      "execution_count": null,
      "outputs": []
    },
    {
      "cell_type": "code",
      "metadata": {
        "id": "hibSzl37TtmN"
      },
      "source": [
        "# Se asume que 0 son negativas\n",
        "# Se asume que 1 y 2 puede llevar errores\n",
        "# Se asume que de 3 en adelante, se considera positiva\n",
        "filteredPositive = numbers[numbers.isPositive > 2]"
      ],
      "execution_count": null,
      "outputs": []
    },
    {
      "cell_type": "code",
      "metadata": {
        "colab": {
          "base_uri": "https://localhost:8080/",
          "height": 309
        },
        "id": "Mv4tz3ncS5Ir",
        "outputId": "a7291457-5e15-4075-c639-8528b7a5e7e5"
      },
      "source": [
        "filteredPositive['Rating'].value_counts().plot.bar()\n",
        "plt.title(\"Plot Bar - Rating Popularity in the Store's Products with Positive Feedback\")\n",
        "plt.xlabel('Rating Stars')\n",
        "plt.ylabel('Quantity')"
      ],
      "execution_count": null,
      "outputs": [
        {
          "output_type": "execute_result",
          "data": {
            "text/plain": [
              "Text(0, 0.5, 'Quantity')"
            ]
          },
          "metadata": {
            "tags": []
          },
          "execution_count": 41
        },
        {
          "output_type": "display_data",
          "data": {
            "image/png": "[encoded data removed]",
            "text/plain": [
              "<Figure size 432x288 with 1 Axes>"
            ]
          },
          "metadata": {
            "tags": [],
            "needs_background": "light"
          }
        }
      ]
    },
    {
      "cell_type": "markdown",
      "metadata": {
        "id": "vtl5RhpgccPE"
      },
      "source": [
        "## **Text Mining**"
      ]
    },
    {
      "cell_type": "markdown",
      "metadata": {
        "id": "RZx7d_pGcqhG"
      },
      "source": [
        "### **OBJETIVO**\n",
        "\n",
        "Analizar las palabras más usadas para expresarse en las reviews de los productos de mujer en una ecommerce."
      ]
    },
    {
      "cell_type": "markdown",
      "metadata": {
        "id": "9Wd19HqOrllZ"
      },
      "source": [
        "**WORD CLOUD WITHOUT STOP WORDS**"
      ]
    },
    {
      "cell_type": "code",
      "metadata": {
        "colab": {
          "base_uri": "https://localhost:8080/",
          "height": 317
        },
        "id": "eRhCDioqcmYd",
        "outputId": "cde5b63b-076b-4fa4-ae69-22a627ff8acf"
      },
      "source": [
        "from wordcloud import WordCloud, STOPWORDS, ImageColorGenerator\n",
        "import nltk \n",
        "nltk.download('punkt')\n",
        "import matplotlib.pyplot as plt\n",
        "\n",
        "all_words = '' \n",
        "\n",
        "for arg in womenEcom['Review Text']: \n",
        "    tokens = arg.split()  \n",
        "    all_words += \" \".join(tokens)+\" \"\n",
        "\n",
        "wordcloud = WordCloud(width = 1000, height = 700, \n",
        "                background_color ='white', \n",
        "                max_words=100,\n",
        "                min_font_size = 15).generate(all_words) \n",
        "\n",
        "plt.figure(figsize = (5, 5), facecolor = None) \n",
        "plt.imshow(wordcloud) \n",
        "plt.axis(\"off\") \n",
        "plt.tight_layout(pad = 0) \n",
        "\n",
        "plt.show()"
      ],
      "execution_count": null,
      "outputs": [
        {
          "output_type": "stream",
          "text": [
            "[nltk_data] Downloading package punkt to /root/nltk_data...\n",
            "[nltk_data]   Unzipping tokenizers/punkt.zip.\n"
          ],
          "name": "stdout"
        },
        {
          "output_type": "display_data",
          "data": {
            "image/png": "[encoded data removed]",
            "text/plain": [
              "<Figure size 360x360 with 1 Axes>"
            ]
          },
          "metadata": {
            "tags": [],
            "needs_background": "light"
          }
        }
      ]
    },
    {
      "cell_type": "markdown",
      "metadata": {
        "id": "IIzTqRJtr813"
      },
      "source": [
        "**WORD CLOUD WITH STOP WORDS**"
      ]
    },
    {
      "cell_type": "code",
      "metadata": {
        "id": "RQ0xQskGkT6i"
      },
      "source": [
        "from PIL import Image\n",
        "dress_mask = np.array(Image.open(\"/content/drive/MyDrive/ColabNotebooks/DataScience/womenEcommerce/dress.jpg\"))"
      ],
      "execution_count": null,
      "outputs": []
    },
    {
      "cell_type": "code",
      "metadata": {
        "colab": {
          "base_uri": "https://localhost:8080/",
          "height": 425
        },
        "id": "V5zeUCFLsMyX",
        "outputId": "df171d1b-18dd-4d6e-8593-c1e2345c705a"
      },
      "source": [
        "from wordcloud import WordCloud, STOPWORDS, ImageColorGenerator\n",
        "\n",
        "import matplotlib.pyplot as plt\n",
        "%matplotlib inline\n",
        "\n",
        "womenEcom['Review Text'] = womenEcom['Review Text'].str.lower()\n",
        "womenEcom['Review Text'] = womenEcom['Review Text'].str.replace('[^\\w\\s]','')\n",
        "womenEcom['Review Text'] = womenEcom['Review Text'].str.replace('\\d+','')\n",
        "\n",
        "from nltk import word_tokenize\n",
        "from nltk.corpus import stopwords\n",
        "nltk.download('stopwords')\n",
        "\n",
        "stopwords = set(stopwords.words('english'))\n",
        "stopwords.update([\"dress\", \"top\", \"sweater\", \"shirt\", \"make\", \"one\", \"got\", \"jacket\", \"fabric\", \"botton\", \"also\",\n",
        "                  \"look\", \"color\", \"material\", \"style\", \"however\", \"much\", \"skirt\", \"bought\", \"like\", \"waist\", \"short\"\n",
        "                  \"sleeve\", \"back\", \"would\", \"really\", \"jean\", \"pant\", \"size\", \"design\", \"black\", \"im\", \"wear\", \"small\"\n",
        "                  \"little\", \"ordered\", \"cut\" \"well\", \"large\", \"local\", \"runs\", \"run\", \"person\"\n",
        "                 ])\n",
        "\n",
        "all_words = '' \n",
        "\n",
        "for arg in womenEcom['Review Text']: \n",
        "    tokens = arg.split()  \n",
        "    all_words += \" \".join(tokens)+\" \"\n",
        "\n",
        "wordcloud = WordCloud(width = 1000, height = 700, \n",
        "                background_color ='white', \n",
        "                stopwords=stopwords,\n",
        "                mask=dress_mask,\n",
        "                min_font_size = 5).generate(all_words)\n",
        " \n",
        "# Graficar la imagen del WordCloud                        \n",
        "plt.figure(figsize = (5, 5), facecolor = None) \n",
        "plt.imshow(wordcloud, interpolation='bilinear') \n",
        "plt.axis(\"off\") \n",
        "plt.tight_layout(pad = 0) \n",
        "  \n",
        "plt.show()"
      ],
      "execution_count": null,
      "outputs": [
        {
          "output_type": "stream",
          "text": [
            "[nltk_data] Downloading package stopwords to /root/nltk_data...\n",
            "[nltk_data]   Package stopwords is already up-to-date!\n"
          ],
          "name": "stdout"
        },
        {
          "output_type": "display_data",
          "data": {
            "image/png": "[encoded data removed]",
            "text/plain": [
              "<Figure size 360x360 with 1 Axes>"
            ]
          },
          "metadata": {
            "tags": [],
            "needs_background": "light"
          }
        }
      ]
    },
    {
      "cell_type": "markdown",
      "metadata": {
        "id": "QsJl7hBrmV85"
      },
      "source": [
        "### **¿Cuáles son los reviews más utilizados?**\n",
        "\n",
        "Asumiendo que reviews se refiere a estrellas, la más dada son las 5 stars. Se puede entender que en general la gente le agradan los productos, pero se tendría que revisar a fondo. Si reviews se refiere a las palabras más usadas en los reviews para expresar su sentimeinto sobre la ropa, encontramos que son positivas como \"Love\", \"great\",  \"nice\", \"cute\", \"beautiful\", \"perfect\" y \"flattering\". "
      ]
    },
    {
      "cell_type": "markdown",
      "metadata": {
        "id": "AR_CVSu7ont0"
      },
      "source": [
        "**Individuales**"
      ]
    },
    {
      "cell_type": "code",
      "metadata": {
        "colab": {
          "base_uri": "https://localhost:8080/"
        },
        "id": "IuRlibdlnCpa",
        "outputId": "69600333-aaff-4f7a-94fe-e91f1951c39e"
      },
      "source": [
        "womenEcom['Review Text'] = womenEcom['Review Text'].str.split(' ').apply(lambda x: ' '.join(k for k in x if k not in stopwords))\n",
        "\n",
        "from collections import Counter\n",
        "Counter(\" \".join(womenEcom['Review Text']).split()).most_common(10)\n"
      ],
      "execution_count": null,
      "outputs": [
        {
          "output_type": "execute_result",
          "data": {
            "text/plain": [
              "[('love', 8916),\n",
              " ('fit', 7241),\n",
              " ('great', 6076),\n",
              " ('little', 3771),\n",
              " ('perfect', 3731),\n",
              " ('flattering', 3484),\n",
              " ('soft', 3309),\n",
              " ('well', 3236),\n",
              " ('comfortable', 3031),\n",
              " ('cute', 3018)]"
            ]
          },
          "metadata": {
            "tags": []
          },
          "execution_count": 54
        }
      ]
    },
    {
      "cell_type": "markdown",
      "metadata": {
        "id": "I5sleY8IowKS"
      },
      "source": [
        "**Conjunto de dos**"
      ]
    },
    {
      "cell_type": "code",
      "metadata": {
        "colab": {
          "base_uri": "https://localhost:8080/"
        },
        "id": "MpFtbgd_o1Zd",
        "outputId": "a2ec89ca-0ec4-473c-d311-fd589661a5ae"
      },
      "source": [
        "from nltk.util import ngrams\n",
        "\n",
        "n_gram = 2\n",
        "n_gram_dic = dict(Counter(ngrams(all_words.split(), n_gram)).most_common(10))\n",
        "\n",
        "for i in n_gram_dic:\n",
        "    if n_gram_dic[i] >= 15:\n",
        "        print(i, n_gram_dic[i])"
      ],
      "execution_count": null,
      "outputs": [
        {
          "output_type": "stream",
          "text": [
            "('looks', 'great') 625\n",
            "('fit', 'perfectly') 600\n",
            "('well', 'made') 512\n",
            "('fits', 'perfectly') 479\n",
            "('love', 'love') 467\n",
            "('fit', 'well') 400\n",
            "('many', 'compliments') 366\n",
            "('fit', 'great') 360\n",
            "('highly', 'recommend') 360\n",
            "('super', 'cute') 358\n"
          ],
          "name": "stdout"
        }
      ]
    },
    {
      "cell_type": "markdown",
      "metadata": {
        "id": "_0RnX9o6pbqB"
      },
      "source": [
        "**Conjunto de tres**"
      ]
    },
    {
      "cell_type": "code",
      "metadata": {
        "colab": {
          "base_uri": "https://localhost:8080/"
        },
        "id": "sdKYPWWSpgxH",
        "outputId": "31519994-7e8d-4a35-a851-17001fadded7"
      },
      "source": [
        "from nltk.util import ngrams\n",
        "\n",
        "n_gram = 3\n",
        "n_gram_dic = dict(Counter(ngrams(all_words.split(), n_gram)).most_common(10))\n",
        "\n",
        "for i in n_gram_dic:\n",
        "    if n_gram_dic[i] >= 15:\n",
        "        print(i, n_gram_dic[i])"
      ],
      "execution_count": null,
      "outputs": [
        {
          "output_type": "stream",
          "text": [
            "('received', 'many', 'compliments') 166\n",
            "('love', 'love', 'love') 145\n",
            "('first', 'time', 'wore') 69\n",
            "('looks', 'great', 'jeans') 66\n",
            "('looking', 'forward', 'wearing') 56\n",
            "('compliments', 'every', 'time') 53\n",
            "('great', 'skinny', 'jeans') 52\n",
            "('wish', 'came', 'colors') 50\n",
            "('worth', 'every', 'penny') 46\n",
            "('looks', 'better', 'person') 43\n"
          ],
          "name": "stdout"
        }
      ]
    },
    {
      "cell_type": "markdown",
      "metadata": {
        "id": "PNhb6c-Hqf1v"
      },
      "source": [
        "### **¿Cómo aplicarías tus resultados en un entorno de negocio o un proyecto considerando la base de datos de la actividad?**\n",
        "\n",
        "Aplicaría mis resultados en el copywritting al momento de redactar la descripción de los productos para que las personas compran se sientan identificadas con las palabras usadas como el lenguaje que ellas manejan. Además, esto mismo se podría aplicar en la redacción de los correos que envía la empresa a sus clientes, es decir las SALES letter podrían aprovechar las palabras e incluirlas. Además se puede usar para buscar las reviews más destacadas y priorizarlas hasta arriba de cada producto. "
      ]
    },
    {
      "cell_type": "markdown",
      "metadata": {
        "id": "gJwgEC9mrRpi"
      },
      "source": [
        "### **3 Cosas que puede cambiar la empresa basándose en el análisis**\n",
        "\n",
        "1) Describir los productos con base a como se verá la persona, lo que le dirán los demás y como el valor de la misma prenda justifica el precio.\n",
        "\n",
        "2) Mientras limpiaba y creaba el stopword, noté que mucha gente se quejaba del tamaño de la ropa, así que algo que podrían buscar es mejorar la manera de presentar el tamaño de la prenda para que el cliente pueda evaluar antes de comprar cual sería su talla correcta.\n",
        "\n",
        "3) Ver que productos necesitan variedad de color, porque mientras hacia el stopwords salían muchas personas pidiendo variedad de color."
      ]
    },
    {
      "cell_type": "markdown",
      "metadata": {
        "id": "R8ofaprWsVFj"
      },
      "source": [
        "**Selección de Propuesta**\n",
        "\n",
        "Seleccioné enfocarme en las reviews positivas porque quería ver que palabras se podrían incluir en el marketing de la empresa, el copywritting necesita saber venderse al cliente, entender como se comunica para poder hacer los textos del website tanto descripciones, como de los anuncios, etc. Analizar las reviews es una buena oportunidad de profundizar sobre ese entendimiento y reaplicarlo en algo útil. "
      ]
    },
    {
      "cell_type": "markdown",
      "metadata": {
        "id": "onV0G0SrtBQ4"
      },
      "source": [
        "**¿Se podría medir el impacto desde una perspectiva ética, social, ambiental y/o económica? Justifica tu respuesta. En el caso de ser negativa la respuesta, ¿Qué información necesitarías para poder medir este impacto?**\n",
        "\n",
        "¿Se podría medir el impacto económica de aplicar las palabras encontradas en el copywritting de la empresa? Probablemente se visualizaría al menos en una menor tasa de rebote y con el tiempo se podría ver un incremento hacia la pasarela de pago, ya que se levantarían menos red flags en el consumidor. Lo correcto sería ir implementando los cambios de redacción poco a poco para ir midiendo como estos cambios perjudican, benefician o no alteran en los pasos hacia la venta. Se podría utilizar el porcentaje de caída en cada etapa hacia el pago desde que el cliente entra a la página web."
      ]
    },
    {
      "cell_type": "markdown",
      "metadata": {
        "id": "d4r6BR7Rtx9h"
      },
      "source": [
        "**Datos que podrían apoyar el análisis**\n",
        "\n",
        "* Palabras de los comments en las redes sociales de las empresas\n",
        "* Palabras de los Emails de los clientes\n",
        "* Palabras en encuestas a los clientes"
      ]
    }
  ]
}