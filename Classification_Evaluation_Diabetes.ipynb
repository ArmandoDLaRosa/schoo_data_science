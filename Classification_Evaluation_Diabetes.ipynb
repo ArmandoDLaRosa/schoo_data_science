{
  "nbformat": 4,
  "nbformat_minor": 0,
  "metadata": {
    "colab": {
      "name": "Classification Evaluation  -Diabetes.ipynb",
      "provenance": [],
      "authorship_tag": "ABX9TyOjhXX3OwyegZzfKSpifxnT",
      "include_colab_link": true
    },
    "kernelspec": {
      "name": "python3",
      "display_name": "Python 3"
    },
    "language_info": {
      "name": "python"
    }
  },
  "cells": [
    {
      "cell_type": "markdown",
      "metadata": {
        "id": "view-in-github",
        "colab_type": "text"
      },
      "source": [
        "<a href=\"https://colab.research.google.com/github/ArmandoDLaRosa/data_science_for_business/blob/main/Classification_Evaluation_Diabetes.ipynb\" target=\"_parent\"><img src=\"https://colab.research.google.com/assets/colab-badge.svg\" alt=\"Open In Colab\"/></a>"
      ]
    },
    {
      "cell_type": "markdown",
      "source": [
        "# Classification Evaluation\n"
      ],
      "metadata": {
        "id": "dsYe6ctiikVl"
      }
    },
    {
      "cell_type": "code",
      "execution_count": 123,
      "metadata": {
        "id": "g_XlJLf3hmQ2"
      },
      "outputs": [],
      "source": [
        "import pandas as pd\n",
        "import numpy as np\n",
        "from sklearn.model_selection import train_test_split\n",
        "from sklearn.linear_model import LogisticRegression\n",
        "from sklearn import metrics\n",
        "import matplotlib.pyplot as plt\n",
        "from typing import Tuple\n",
        "from sklearn.model_selection import cross_val_score\n",
        "from sklearn.preprocessing import binarize"
      ]
    },
    {
      "cell_type": "code",
      "source": [
        "def evaluate_threshold(threshold:np.ndarray) -> Tuple[int, ...]:\n",
        "    \"\"\"\n",
        "    Receives threshold, returns (sensitivity, specificity)\n",
        "    \"\"\"\n",
        "    return (tpr[thresholds > threshold][-1], 1 - fpr[thresholds > threshold][-1])"
      ],
      "metadata": {
        "id": "UihhnNzi3JhG"
      },
      "execution_count": 109,
      "outputs": []
    },
    {
      "cell_type": "markdown",
      "source": [
        "First let's follow this [tutorial](https://www.ritchieng.com/machine-learning-evaluate-classification-model/), with the data from this dataset in kaggle: [diabetes](https://www.kaggle.com/datasets/mathchi/diabetes-data-set).\n",
        "\n"
      ],
      "metadata": {
        "id": "FRWZ8rGTinEU"
      }
    },
    {
      "cell_type": "markdown",
      "source": [
        "**QUESTION TO SOLVE**\n",
        "\n",
        "Can we predict the diabetes status of a patient given their health measurements?"
      ],
      "metadata": {
        "id": "-K8s9q2Znrw5"
      }
    },
    {
      "cell_type": "code",
      "source": [
        "df = pd.read_csv('/content/diabetes-1.csv')"
      ],
      "metadata": {
        "id": "M1UzsztRh_Dj"
      },
      "execution_count": 7,
      "outputs": []
    },
    {
      "cell_type": "code",
      "source": [
        "df.head()"
      ],
      "metadata": {
        "colab": {
          "base_uri": "https://localhost:8080/",
          "height": 206
        },
        "id": "6J6sXcbEiH_o",
        "outputId": "50edb9a4-b95b-4d21-f86f-71e01103d8f1"
      },
      "execution_count": 9,
      "outputs": [
        {
          "output_type": "execute_result",
          "data": {
            "text/plain": [
              "   Pregnancies  Glucose  BloodPressure  SkinThickness  Insulin   BMI  \\\n",
              "0            6      148             72             35        0  33.6   \n",
              "1            1       85             66             29        0  26.6   \n",
              "2            8      183             64              0        0  23.3   \n",
              "3            1       89             66             23       94  28.1   \n",
              "4            0      137             40             35      168  43.1   \n",
              "\n",
              "   DiabetesPedigreeFunction  Age  Outcome  \n",
              "0                     0.627   50        1  \n",
              "1                     0.351   31        0  \n",
              "2                     0.672   32        1  \n",
              "3                     0.167   21        0  \n",
              "4                     2.288   33        1  "
            ],
            "text/html": [
              "\n",
              "  <div id=\"df-ddcbb681-9661-49f0-9510-0faadfa0e093\">\n",
              "    <div class=\"colab-df-container\">\n",
              "      <div>\n",
              "<style scoped>\n",
              "    .dataframe tbody tr th:only-of-type {\n",
              "        vertical-align: middle;\n",
              "    }\n",
              "\n",
              "    .dataframe tbody tr th {\n",
              "        vertical-align: top;\n",
              "    }\n",
              "\n",
              "    .dataframe thead th {\n",
              "        text-align: right;\n",
              "    }\n",
              "</style>\n",
              "<table border=\"1\" class=\"dataframe\">\n",
              "  <thead>\n",
              "    <tr style=\"text-align: right;\">\n",
              "      <th></th>\n",
              "      <th>Pregnancies</th>\n",
              "      <th>Glucose</th>\n",
              "      <th>BloodPressure</th>\n",
              "      <th>SkinThickness</th>\n",
              "      <th>Insulin</th>\n",
              "      <th>BMI</th>\n",
              "      <th>DiabetesPedigreeFunction</th>\n",
              "      <th>Age</th>\n",
              "      <th>Outcome</th>\n",
              "    </tr>\n",
              "  </thead>\n",
              "  <tbody>\n",
              "    <tr>\n",
              "      <th>0</th>\n",
              "      <td>6</td>\n",
              "      <td>148</td>\n",
              "      <td>72</td>\n",
              "      <td>35</td>\n",
              "      <td>0</td>\n",
              "      <td>33.6</td>\n",
              "      <td>0.627</td>\n",
              "      <td>50</td>\n",
              "      <td>1</td>\n",
              "    </tr>\n",
              "    <tr>\n",
              "      <th>1</th>\n",
              "      <td>1</td>\n",
              "      <td>85</td>\n",
              "      <td>66</td>\n",
              "      <td>29</td>\n",
              "      <td>0</td>\n",
              "      <td>26.6</td>\n",
              "      <td>0.351</td>\n",
              "      <td>31</td>\n",
              "      <td>0</td>\n",
              "    </tr>\n",
              "    <tr>\n",
              "      <th>2</th>\n",
              "      <td>8</td>\n",
              "      <td>183</td>\n",
              "      <td>64</td>\n",
              "      <td>0</td>\n",
              "      <td>0</td>\n",
              "      <td>23.3</td>\n",
              "      <td>0.672</td>\n",
              "      <td>32</td>\n",
              "      <td>1</td>\n",
              "    </tr>\n",
              "    <tr>\n",
              "      <th>3</th>\n",
              "      <td>1</td>\n",
              "      <td>89</td>\n",
              "      <td>66</td>\n",
              "      <td>23</td>\n",
              "      <td>94</td>\n",
              "      <td>28.1</td>\n",
              "      <td>0.167</td>\n",
              "      <td>21</td>\n",
              "      <td>0</td>\n",
              "    </tr>\n",
              "    <tr>\n",
              "      <th>4</th>\n",
              "      <td>0</td>\n",
              "      <td>137</td>\n",
              "      <td>40</td>\n",
              "      <td>35</td>\n",
              "      <td>168</td>\n",
              "      <td>43.1</td>\n",
              "      <td>2.288</td>\n",
              "      <td>33</td>\n",
              "      <td>1</td>\n",
              "    </tr>\n",
              "  </tbody>\n",
              "</table>\n",
              "</div>\n",
              "      <button class=\"colab-df-convert\" onclick=\"convertToInteractive('df-ddcbb681-9661-49f0-9510-0faadfa0e093')\"\n",
              "              title=\"Convert this dataframe to an interactive table.\"\n",
              "              style=\"display:none;\">\n",
              "        \n",
              "  <svg xmlns=\"http://www.w3.org/2000/svg\" height=\"24px\"viewBox=\"0 0 24 24\"\n",
              "       width=\"24px\">\n",
              "    <path d=\"M0 0h24v24H0V0z\" fill=\"none\"/>\n",
              "    <path d=\"M18.56 5.44l.94 2.06.94-2.06 2.06-.94-2.06-.94-.94-2.06-.94 2.06-2.06.94zm-11 1L8.5 8.5l.94-2.06 2.06-.94-2.06-.94L8.5 2.5l-.94 2.06-2.06.94zm10 10l.94 2.06.94-2.06 2.06-.94-2.06-.94-.94-2.06-.94 2.06-2.06.94z\"/><path d=\"M17.41 7.96l-1.37-1.37c-.4-.4-.92-.59-1.43-.59-.52 0-1.04.2-1.43.59L10.3 9.45l-7.72 7.72c-.78.78-.78 2.05 0 2.83L4 21.41c.39.39.9.59 1.41.59.51 0 1.02-.2 1.41-.59l7.78-7.78 2.81-2.81c.8-.78.8-2.07 0-2.86zM5.41 20L4 18.59l7.72-7.72 1.47 1.35L5.41 20z\"/>\n",
              "  </svg>\n",
              "      </button>\n",
              "      \n",
              "  <style>\n",
              "    .colab-df-container {\n",
              "      display:flex;\n",
              "      flex-wrap:wrap;\n",
              "      gap: 12px;\n",
              "    }\n",
              "\n",
              "    .colab-df-convert {\n",
              "      background-color: #E8F0FE;\n",
              "      border: none;\n",
              "      border-radius: 50%;\n",
              "      cursor: pointer;\n",
              "      display: none;\n",
              "      fill: #1967D2;\n",
              "      height: 32px;\n",
              "      padding: 0 0 0 0;\n",
              "      width: 32px;\n",
              "    }\n",
              "\n",
              "    .colab-df-convert:hover {\n",
              "      background-color: #E2EBFA;\n",
              "      box-shadow: 0px 1px 2px rgba(60, 64, 67, 0.3), 0px 1px 3px 1px rgba(60, 64, 67, 0.15);\n",
              "      fill: #174EA6;\n",
              "    }\n",
              "\n",
              "    [theme=dark] .colab-df-convert {\n",
              "      background-color: #3B4455;\n",
              "      fill: #D2E3FC;\n",
              "    }\n",
              "\n",
              "    [theme=dark] .colab-df-convert:hover {\n",
              "      background-color: #434B5C;\n",
              "      box-shadow: 0px 1px 3px 1px rgba(0, 0, 0, 0.15);\n",
              "      filter: drop-shadow(0px 1px 2px rgba(0, 0, 0, 0.3));\n",
              "      fill: #FFFFFF;\n",
              "    }\n",
              "  </style>\n",
              "\n",
              "      <script>\n",
              "        const buttonEl =\n",
              "          document.querySelector('#df-ddcbb681-9661-49f0-9510-0faadfa0e093 button.colab-df-convert');\n",
              "        buttonEl.style.display =\n",
              "          google.colab.kernel.accessAllowed ? 'block' : 'none';\n",
              "\n",
              "        async function convertToInteractive(key) {\n",
              "          const element = document.querySelector('#df-ddcbb681-9661-49f0-9510-0faadfa0e093');\n",
              "          const dataTable =\n",
              "            await google.colab.kernel.invokeFunction('convertToInteractive',\n",
              "                                                     [key], {});\n",
              "          if (!dataTable) return;\n",
              "\n",
              "          const docLinkHtml = 'Like what you see? Visit the ' +\n",
              "            '<a target=\"_blank\" href=https://colab.research.google.com/notebooks/data_table.ipynb>data table notebook</a>'\n",
              "            + ' to learn more about interactive tables.';\n",
              "          element.innerHTML = '';\n",
              "          dataTable['output_type'] = 'display_data';\n",
              "          await google.colab.output.renderOutput(dataTable, element);\n",
              "          const docLink = document.createElement('div');\n",
              "          docLink.innerHTML = docLinkHtml;\n",
              "          element.appendChild(docLink);\n",
              "        }\n",
              "      </script>\n",
              "    </div>\n",
              "  </div>\n",
              "  "
            ]
          },
          "metadata": {},
          "execution_count": 9
        }
      ]
    },
    {
      "cell_type": "code",
      "source": [
        "feature_cols = ['Pregnancies', 'Insulin', 'BMI', 'Age']\n",
        "X = df[feature_cols]\n",
        "y = df[\"Outcome\"]"
      ],
      "metadata": {
        "id": "z1WgMjYTigdw"
      },
      "execution_count": 15,
      "outputs": []
    },
    {
      "cell_type": "code",
      "source": [
        "X_train, X_test, y_train, y_test = train_test_split(X, y, random_state=0)\n",
        "logreg = LogisticRegression()\n",
        "logreg.fit(X_train, y_train)\n",
        "y_pred_class = logreg.predict(X_test)\n",
        "print(round(metrics.accuracy_score(y_test, y_pred_class),3)*100, '%')"
      ],
      "metadata": {
        "colab": {
          "base_uri": "https://localhost:8080/"
        },
        "id": "FIkDl0JCoPO5",
        "outputId": "7603055e-e36d-475c-beaf-c60876219d1a"
      },
      "execution_count": 42,
      "outputs": [
        {
          "output_type": "stream",
          "name": "stdout",
          "text": [
            "67.7 %\n"
          ]
        }
      ]
    },
    {
      "cell_type": "markdown",
      "source": [
        "## Distribution of Outcome\n"
      ],
      "metadata": {
        "id": "hbZrO5BdpAGL"
      }
    },
    {
      "cell_type": "code",
      "source": [
        "for data in [y_train, y_test]:\n",
        "    print(data.value_counts())\n",
        "    print(\"% of zero: \", round(1-data.mean(),2))    \n",
        "    print(\"% of ones: \", round(data.mean(),2), '\\n')"
      ],
      "metadata": {
        "colab": {
          "base_uri": "https://localhost:8080/"
        },
        "id": "g_u567DYo_GT",
        "outputId": "5a8721f2-a580-4a14-9c74-15fb0ea72c42"
      },
      "execution_count": 38,
      "outputs": [
        {
          "output_type": "stream",
          "name": "stdout",
          "text": [
            "0    370\n",
            "1    206\n",
            "Name: Outcome, dtype: int64\n",
            "% of zero:  0.64\n",
            "% of ones:  0.36 \n",
            "\n",
            "0    130\n",
            "1     62\n",
            "Name: Outcome, dtype: int64\n",
            "% of zero:  0.68\n",
            "% of ones:  0.32 \n",
            "\n"
          ]
        }
      ]
    },
    {
      "cell_type": "markdown",
      "source": [
        "A dumb model saying 0, would be right 68% of the time. Meaning that the 67% we're getting should be improved."
      ],
      "metadata": {
        "id": "mOxho6WQqSsS"
      }
    },
    {
      "cell_type": "markdown",
      "source": [
        "## Evaluation 1: Classification Acurracy\n",
        "\n",
        "This method **doesn't tell** \n",
        "- the distribution of response values.\n",
        "- the type of errors of the classifier"
      ],
      "metadata": {
        "id": "7Zkak1-OrI_b"
      }
    },
    {
      "cell_type": "code",
      "source": [
        "# Null Accuracy\n",
        "y_test.value_counts().head(1) / len(y_test)"
      ],
      "metadata": {
        "colab": {
          "base_uri": "https://localhost:8080/"
        },
        "id": "pGXsAmaCqRKJ",
        "outputId": "e9d210a4-a27e-44e6-e079-3e319f64f2fa"
      },
      "execution_count": 44,
      "outputs": [
        {
          "output_type": "execute_result",
          "data": {
            "text/plain": [
              "0    0.677083\n",
              "Name: Outcome, dtype: float64"
            ]
          },
          "metadata": {},
          "execution_count": 44
        }
      ]
    },
    {
      "cell_type": "code",
      "source": [
        "# Real Values Vs Predicted by model\n",
        "print('Real Values:', y_test.values[0:25])\n",
        "print('Pred Values:', y_pred_class[0:25])"
      ],
      "metadata": {
        "colab": {
          "base_uri": "https://localhost:8080/"
        },
        "id": "lJG6t5VGq7ew",
        "outputId": "8c5acd10-9fe5-4545-b824-e4b2d193eca3"
      },
      "execution_count": 45,
      "outputs": [
        {
          "output_type": "stream",
          "name": "stdout",
          "text": [
            "Real Values: [1 0 0 1 0 0 1 1 0 0 1 1 0 0 0 0 1 0 0 0 1 1 0 0 0]\n",
            "Pred Values: [0 0 0 0 0 0 0 1 0 1 0 1 0 0 0 0 0 0 0 0 0 0 0 0 0]\n"
          ]
        }
      ]
    },
    {
      "cell_type": "markdown",
      "source": [
        "## Evaluation 2: Confusion Matrix\n",
        "This method works perfect for multi-class problems"
      ],
      "metadata": {
        "id": "krVcKTFGrovs"
      }
    },
    {
      "cell_type": "code",
      "source": [
        "#               Predicted-0  Predicted-1\n",
        "# Actual-0           TN          FP\n",
        "# Actual-1           Fn          TP\n",
        "#\n",
        "# FP - Type I error\n",
        "# FN - Type II errort\n",
        "\n",
        "confusion = metrics.confusion_matrix(y_test, y_pred_class)\n",
        "print(confusion)"
      ],
      "metadata": {
        "colab": {
          "base_uri": "https://localhost:8080/"
        },
        "id": "eEiayH36rtnj",
        "outputId": "3f041077-8ac0-4942-df26-a3393d00d0bb"
      },
      "execution_count": 52,
      "outputs": [
        {
          "output_type": "stream",
          "name": "stdout",
          "text": [
            "[[114  16]\n",
            " [ 46  16]]\n"
          ]
        }
      ]
    },
    {
      "cell_type": "code",
      "source": [
        "TP = confusion[1, 1]\n",
        "TN = confusion[0, 0]\n",
        "FP = confusion[0, 1]\n",
        "FN = confusion[1, 0]\n",
        "print(  \"TP = \", TP, \n",
        "      \"\\nTN = \", TN,\n",
        "      \"\\nFP = \", FP,\n",
        "      \"\\nFN = \", FN)"
      ],
      "metadata": {
        "colab": {
          "base_uri": "https://localhost:8080/"
        },
        "id": "RP89wr19samd",
        "outputId": "dbaf30f4-3e18-4ab9-8dba-b7769d436e14"
      },
      "execution_count": 70,
      "outputs": [
        {
          "output_type": "stream",
          "name": "stdout",
          "text": [
            "TP =  16 \n",
            "TN =  114 \n",
            "FP =  16 \n",
            "FN =  46\n"
          ]
        }
      ]
    },
    {
      "cell_type": "markdown",
      "source": [
        "### Accuracy\n",
        "Overall correctness"
      ],
      "metadata": {
        "id": "VwOh5B4XsxbX"
      }
    },
    {
      "cell_type": "code",
      "source": [
        "print('Manual Calculated Accuracy = ' , round((TP + TN) / float(TP + TN + FP + FN), 5))\n",
        "print('Scikit Calculated Accuracy = ' , round(metrics.accuracy_score(y_test, y_pred_class), 5))"
      ],
      "metadata": {
        "colab": {
          "base_uri": "https://localhost:8080/"
        },
        "id": "97bFP1Gms6cg",
        "outputId": "8e7284b0-cefe-4cda-89f2-3bd540f9a85a"
      },
      "execution_count": 77,
      "outputs": [
        {
          "output_type": "stream",
          "name": "stdout",
          "text": [
            "Manual Calculated Accuracy =  0.67708\n",
            "Scikit Calculated Accuracy =  0.67708\n"
          ]
        }
      ]
    },
    {
      "cell_type": "markdown",
      "source": [
        "### Error\n",
        "Overall incorrectness\n"
      ],
      "metadata": {
        "id": "O4xM88mXs1X2"
      }
    },
    {
      "cell_type": "code",
      "source": [
        "print('Manual Calculated Misclassification rate = ' , round((FP + FN) / float(TP + TN + FP + FN), 5))\n",
        "print('Scikit Calculated Misclassification rate = ' , round(1 - metrics.accuracy_score(y_test, y_pred_class), 5))"
      ],
      "metadata": {
        "colab": {
          "base_uri": "https://localhost:8080/"
        },
        "id": "hk9JpEX_trD5",
        "outputId": "f2d3221a-70a2-4d87-8a1a-ee47e6407bb0"
      },
      "execution_count": 78,
      "outputs": [
        {
          "output_type": "stream",
          "name": "stdout",
          "text": [
            "Manual Calculated Misclassification rate =  0.32292\n",
            "Scikit Calculated Misclassification rate =  0.32292\n"
          ]
        }
      ]
    },
    {
      "cell_type": "markdown",
      "source": [
        "### Sensitivity\n",
        "Recall - ActualValue is 1, how often prediction is correct?"
      ],
      "metadata": {
        "id": "plG_8KsmudVT"
      }
    },
    {
      "cell_type": "code",
      "source": [
        "print('Manual Calculated True Positive Rate = ' , round(TP / float(FN + TP),5))\n",
        "print('Scikit Calculated True Positive Rate = ' , round(metrics.recall_score(y_test, y_pred_class),5))"
      ],
      "metadata": {
        "colab": {
          "base_uri": "https://localhost:8080/"
        },
        "id": "4kN1AwETupFP",
        "outputId": "3b9ccac3-e7b6-43a1-976d-f5173499ed51"
      },
      "execution_count": 79,
      "outputs": [
        {
          "output_type": "stream",
          "name": "stdout",
          "text": [
            "Manual Calculated True Positive Rate =  0.25806\n",
            "Scikit Calculated True Positive Rate =  0.25806\n"
          ]
        }
      ]
    },
    {
      "cell_type": "markdown",
      "source": [
        "### Specificity\n",
        "True Negative Rate - ActualValue is 0, how often prediction is correct?"
      ],
      "metadata": {
        "id": "YWUB58D1u3Ux"
      }
    },
    {
      "cell_type": "code",
      "source": [
        "print('Manual Calculated True Negative Rate = ' , round(TN / (TN + FP),5))"
      ],
      "metadata": {
        "colab": {
          "base_uri": "https://localhost:8080/"
        },
        "id": "1d8QB0auu-Nr",
        "outputId": "fe8709e5-c100-4fc3-d97f-78855a767c96"
      },
      "execution_count": 81,
      "outputs": [
        {
          "output_type": "stream",
          "name": "stdout",
          "text": [
            "Manual Calculated True Negative Rate =  0.87692\n"
          ]
        }
      ]
    },
    {
      "cell_type": "markdown",
      "source": [
        "### False Positive Rate\n",
        "ActualValue is 0, how often prediction is incorrect?"
      ],
      "metadata": {
        "id": "ToMgZnLAvSiy"
      }
    },
    {
      "cell_type": "code",
      "source": [
        "print('Manual Calculated False Positive Rate = ' , round( FP / float(TN + FP), 5))\n",
        "print('FP Rate = 1 - Scikit Specificity      = ',  round( 1 - TN / (TN + FP), 5)) "
      ],
      "metadata": {
        "colab": {
          "base_uri": "https://localhost:8080/"
        },
        "id": "2WETMdc2vPUB",
        "outputId": "d232d855-8599-41a1-dc27-82d1eb983322"
      },
      "execution_count": 91,
      "outputs": [
        {
          "output_type": "stream",
          "name": "stdout",
          "text": [
            "Manual Calculated False Positive Rate =  0.12308\n",
            "FP Rate = 1 - Scikit Specificity      =  0.12308\n"
          ]
        }
      ]
    },
    {
      "cell_type": "markdown",
      "source": [
        "### Precision\n",
        "Truly positive prediction"
      ],
      "metadata": {
        "id": "4WptSZYXwnOe"
      }
    },
    {
      "cell_type": "code",
      "source": [
        "print('Manual Calculated Precision = ' , round(TP / float(TP + FP),5))\n",
        "print('Scikit Calculated Precision = ' , round(metrics.precision_score(y_test, y_pred_class),5))"
      ],
      "metadata": {
        "colab": {
          "base_uri": "https://localhost:8080/"
        },
        "id": "yRshyOo8w9uy",
        "outputId": "ac84d6db-0fd0-4768-d7f6-18ef54d1efd1"
      },
      "execution_count": 83,
      "outputs": [
        {
          "output_type": "stream",
          "name": "stdout",
          "text": [
            "Manual Calculated Precision =  0.5\n",
            "Scikit Calculated Precision =  0.5\n"
          ]
        }
      ]
    },
    {
      "cell_type": "markdown",
      "source": [
        "## Fixing the Threshold of the Classifier\n",
        "Fixing the threshold is usually done after you've chosen the best model, AUC/ROC let you evaluate the models without fixing first the treshold."
      ],
      "metadata": {
        "id": "k73Hz9Pg0P64"
      }
    },
    {
      "cell_type": "code",
      "source": [
        "y_pred_prob = logreg.predict_proba(X_test)[:, 1]"
      ],
      "metadata": {
        "id": "foK6Qtnl0Pj3"
      },
      "execution_count": 92,
      "outputs": []
    },
    {
      "cell_type": "markdown",
      "source": [
        "### ROC\n",
        "It uses probability and not classifications"
      ],
      "metadata": {
        "id": "UJH8FN9n02qG"
      }
    },
    {
      "cell_type": "code",
      "source": [
        "# roc_curve returns \n",
        "# thresholds: array\n",
        "# fpr:        false positive rate\n",
        "# tpr:        true positive rate\n",
        "\n",
        "fpr, tpr, thresholds = metrics.roc_curve(y_test, y_pred_prob)\n",
        "\n",
        "plt.plot(fpr, tpr)\n",
        "plt.xlim([0.0, 1.0])\n",
        "plt.ylim([0.0, 1.0])\n",
        "plt.rcParams['font.size'] = 12\n",
        "plt.title('ROC curve for Diabetes classifier')\n",
        "plt.xlabel('False Positive Rate (1 - Specificity)')\n",
        "plt.ylabel('True Positive Rate (Sensitivity)')\n",
        "plt.grid(True)"
      ],
      "metadata": {
        "colab": {
          "base_uri": "https://localhost:8080/",
          "height": 296
        },
        "id": "Hu4S7BTf0xGf",
        "outputId": "18ae80a9-1264-45be-be31-91bbcb8f4854"
      },
      "execution_count": 96,
      "outputs": [
        {
          "output_type": "display_data",
          "data": {
            "text/plain": [
              "<Figure size 432x288 with 1 Axes>"
            ],
            "image/png": "[encoded data removed]"
          },
          "metadata": {
            "needs_background": "light"
          }
        }
      ]
    },
    {
      "cell_type": "code",
      "source": [
        "# To see how the thresholds are use to generate the ROC Curve\n",
        "\n",
        "# 0.5 is the Starter threshold, later we will change it.\n",
        "sensitivity, specificity = evaluate_threshold(0.5)\n",
        "print(sensitivity, specificity)"
      ],
      "metadata": {
        "colab": {
          "base_uri": "https://localhost:8080/"
        },
        "id": "J5EKrgU716zk",
        "outputId": "bbfc6d28-97cc-410e-c76a-ce1e0c4a7883"
      },
      "execution_count": 114,
      "outputs": [
        {
          "output_type": "stream",
          "name": "stdout",
          "text": [
            "0.25806451612903225 0.8769230769230769\n"
          ]
        }
      ]
    },
    {
      "cell_type": "markdown",
      "source": [
        "### AUC\n",
        "Area under the curve"
      ],
      "metadata": {
        "id": "v51iSsDQ3vuR"
      }
    },
    {
      "cell_type": "code",
      "source": [
        "print(metrics.roc_auc_score(y_test, y_pred_prob))"
      ],
      "metadata": {
        "colab": {
          "base_uri": "https://localhost:8080/"
        },
        "id": "8XdlktOF3y8p",
        "outputId": "b71554e8-0b95-4bfd-ce3d-2154bbe84ab4"
      },
      "execution_count": 115,
      "outputs": [
        {
          "output_type": "stream",
          "name": "stdout",
          "text": [
            "0.7227047146401985\n"
          ]
        }
      ]
    },
    {
      "cell_type": "markdown",
      "source": [
        "This metric is helpful to compare against other models, the higher the value the better. Useful to evaluate a model even when there's high class imbalance, which *classification accuracy* fails to be good at when there's high imbalance."
      ],
      "metadata": {
        "id": "Oa6yq0Rt34Vp"
      }
    },
    {
      "cell_type": "markdown",
      "source": [
        "#### AUC, but cross validated"
      ],
      "metadata": {
        "id": "O79B9okQ4hHs"
      }
    },
    {
      "cell_type": "code",
      "source": [
        "cross_val_score(logreg, X, y, cv=10, scoring='roc_auc').mean()"
      ],
      "metadata": {
        "colab": {
          "base_uri": "https://localhost:8080/"
        },
        "id": "nZmhaFt-4k9Z",
        "outputId": "8289ffca-31ee-43cc-9bd5-580daf39c1f4"
      },
      "execution_count": 118,
      "outputs": [
        {
          "output_type": "execute_result",
          "data": {
            "text/plain": [
              "0.7425071225071225"
            ]
          },
          "metadata": {},
          "execution_count": 118
        }
      ]
    },
    {
      "cell_type": "markdown",
      "source": [
        "### G-mean - Actually fixing the treshold\n",
        "It's the geometric mean of sensitivity (known as recall) and specificity."
      ],
      "metadata": {
        "id": "4nWt4njR6cm9"
      }
    },
    {
      "cell_type": "code",
      "source": [
        "gmean = np.sqrt(tpr * (1 - fpr))\n",
        "\n",
        "index = np.argmax(gmean)\n",
        "thresholdOpt = round(thresholds[index], ndigits = 4)\n",
        "gmeanOpt = round(gmean[index], ndigits = 4)\n",
        "fprOpt = round(fpr[index], ndigits = 4)\n",
        "tprOpt = round(tpr[index], ndigits = 4)\n",
        "print('Best Threshold: {} with G-Mean: {}'.format(thresholdOpt, gmeanOpt))\n",
        "print('FPR: {}, TPR: {}'.format(fprOpt, tprOpt))\n",
        "\n",
        "sensitivity, specificity = evaluate_threshold(thresholdOpt)\n",
        "print('Sensitivity: {}, Specificity: {}'.format(sensitivity, specificity))"
      ],
      "metadata": {
        "colab": {
          "base_uri": "https://localhost:8080/"
        },
        "id": "UesfSqG36fwO",
        "outputId": "be4b3f45-775d-4960-c814-e19196e38b3d"
      },
      "execution_count": 122,
      "outputs": [
        {
          "output_type": "stream",
          "name": "stdout",
          "text": [
            "Best Threshold: 0.2531 with G-Mean: 0.6821\n",
            "FPR: 0.4231, TPR: 0.8065\n",
            "Sensitivity: 0.8064516129032258, Specificity: 0.5769230769230769\n"
          ]
        }
      ]
    },
    {
      "cell_type": "code",
      "source": [
        "y_pred_class = binarize([y_pred_prob], threshold=thresholdOpt)[0]\n",
        "metrics.confusion_matrix(y_test, y_pred_class)"
      ],
      "metadata": {
        "colab": {
          "base_uri": "https://localhost:8080/"
        },
        "id": "0uDgtgm77dvC",
        "outputId": "101543ab-b3d8-4c13-b02f-29c4cc8b3415"
      },
      "execution_count": 133,
      "outputs": [
        {
          "output_type": "execute_result",
          "data": {
            "text/plain": [
              "array([[75, 55],\n",
              "       [12, 50]])"
            ]
          },
          "metadata": {},
          "execution_count": 133
        }
      ]
    },
    {
      "cell_type": "markdown",
      "source": [
        "## NOTES\n",
        "Sensitivity & Specificity -\n",
        "This are the things we want to maximize. In this example we manage to increase sensitivity, but we decreased specificity when we moved the threshold."
      ],
      "metadata": {
        "id": "8z_Nq1R6-PB1"
      }
    }
  ]
}